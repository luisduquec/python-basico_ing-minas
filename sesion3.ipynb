{
 "cells": [
  {
   "cell_type": "markdown",
   "id": "604d7d3c",
   "metadata": {},
   "source": [
    "# Condicionales"
   ]
  },
  {
   "cell_type": "code",
   "execution_count": 4,
   "id": "206adb10",
   "metadata": {},
   "outputs": [
    {
     "name": "stdout",
     "output_type": "stream",
     "text": [
      "los numeros son iguales\n"
     ]
    }
   ],
   "source": [
    "n1 = 8\n",
    "n2 = 8\n",
    "\n",
    "if (n1>n2):\n",
    "    print(\"el numero\",n1,\"es mayor que\",n2)\n",
    "    \n",
    "elif(n1<n2):\n",
    "    print(\"el numero\",n1,\"es menor que\",n2)\n",
    "\n",
    "else:\n",
    "    print(\"los numeros son iguales\")"
   ]
  },
  {
   "cell_type": "markdown",
   "id": "ed2b1c1b",
   "metadata": {},
   "source": [
    "# Condicionales en los ciclos"
   ]
  },
  {
   "cell_type": "code",
   "execution_count": 8,
   "id": "bd551a0e",
   "metadata": {},
   "outputs": [
    {
     "name": "stdout",
     "output_type": "stream",
     "text": [
      "el numero 1 es menor que 5\n",
      "el numero 2 es menor que 5\n",
      "el numero 3 es menor que 5\n",
      "el numero 4 es menor que 5\n",
      "el numero es 5\n",
      "el numero 6 es mayor que 5\n",
      "el numero 7 es mayor que 5\n",
      "el numero 8 es mayor que 5\n",
      "el numero 9 es mayor que 5\n",
      "el numero 10 es mayor que 5\n"
     ]
    }
   ],
   "source": [
    "lista = [1,2,3,4,5,6,7,8,9,10]\n",
    "\n",
    "for n in lista:\n",
    "    if (n > 5):\n",
    "        print(\"el numero\",n,\"es mayor que 5\")\n",
    "    elif(n < 5):\n",
    "        print(\"el numero\",n,\"es menor que 5\")\n",
    "    else:\n",
    "        print(\"el numero es 5\")"
   ]
  },
  {
   "cell_type": "markdown",
   "id": "223cd745",
   "metadata": {},
   "source": [
    "# Condicionales anidados"
   ]
  },
  {
   "cell_type": "code",
   "execution_count": 25,
   "id": "6c59bb46",
   "metadata": {},
   "outputs": [
    {
     "name": "stdout",
     "output_type": "stream",
     "text": [
      "el cargo no es admin, ni ing, el cargo es: auxiliar\n",
      "su nivel es diferente de 5\n"
     ]
    }
   ],
   "source": [
    "cargo = \"auxiliar\"\n",
    "nivel = 4\n",
    "\n",
    "\n",
    "if(cargo == \"ingeniero\"):\n",
    "    print(\"bienvenido ingeniero\")\n",
    "    \n",
    "    if (nivel == 5):\n",
    "        print(\"el nivel del ingeniero es 5\")\n",
    "    elif (nivel!= 5 ):\n",
    "        print(\"el nivel del ingeniero es diferente de 5\")\n",
    "        \n",
    "elif(cargo == \"administrador\"):\n",
    "    print(\"bienvenido administrador\")\n",
    "    \n",
    "    if (nivel == 5):\n",
    "        print(\"el nivel del administrador es 5\")\n",
    "    elif (nivel!= 5 ):\n",
    "        print(\"el nivel del administrador es diferente de 5\")\n",
    "\n",
    "else:\n",
    "    print(\"el cargo no es admin, ni ing, el cargo es:\",cargo)\n",
    "    if (nivel == 5):\n",
    "        print(\"su nivel es 5\")\n",
    "    elif (nivel!= 5 ):\n",
    "        print(\"su nivel es diferente de 5\")"
   ]
  },
  {
   "cell_type": "markdown",
   "id": "9c89094a",
   "metadata": {},
   "source": [
    "# Ciclo FOR"
   ]
  },
  {
   "cell_type": "code",
   "execution_count": 3,
   "id": "a6489a69",
   "metadata": {},
   "outputs": [
    {
     "name": "stdout",
     "output_type": "stream",
     "text": [
      "1\n",
      "3\n",
      "5\n",
      "7\n",
      "9\n",
      "11\n",
      "13\n",
      "15\n",
      "17\n",
      "19\n",
      "21\n"
     ]
    }
   ],
   "source": [
    "#for i in range (inicial,final,saltos)\n",
    "\n",
    "for i in range (1,22,2):\n",
    "    print(i)"
   ]
  },
  {
   "cell_type": "code",
   "execution_count": 5,
   "id": "b832a767",
   "metadata": {},
   "outputs": [
    {
     "name": "stdout",
     "output_type": "stream",
     "text": [
      "[1, 2, 3, 4, 5, 6, 7, 8, 9, 10]\n"
     ]
    }
   ],
   "source": [
    "lista_desde_range = list(range(1,11))\n",
    "print(lista_desde_range)"
   ]
  },
  {
   "cell_type": "code",
   "execution_count": 48,
   "id": "12d25aab",
   "metadata": {},
   "outputs": [
    {
     "name": "stdout",
     "output_type": "stream",
     "text": [
      "el nombre de nuestro supervisor/a es: juan\n",
      "los niveles asignados son: ['nivel 1', 'nivel 2', 'nivel 3']\n",
      "la cantidad de nieveles asignados está ok\n",
      "\n",
      "el nombre de nuestro supervisor/a es: sara\n",
      "los niveles asignados son: ['nivel 4', 'nivel 5', 'nivel 6']\n",
      "la cantidad de nieveles asignados está ok\n",
      "\n",
      "el nombre de nuestro supervisor/a es: pedro\n",
      "los niveles asignados son: ['nivel 7', 'nivel 8', 'nivel 9', 'nivel 10']\n",
      "por favor acudir con tu superior, puesto que tienes muchos niveles asignados\n",
      "\n"
     ]
    }
   ],
   "source": [
    "asignaciones = {\"juan\":[\"nivel 1\", \"nivel 2\", \"nivel 3\"], \"sara\":[\"nivel 4\",\"nivel 5\", \"nivel 6\"], \"pedro\":[\"nivel 7\", \"nivel 8\", \"nivel 9\", \"nivel 10\"]}\n",
    "tope = 3\n",
    "\n",
    "for s in asignaciones:\n",
    "    print(\"el nombre de nuestro supervisor/a es:\",s)\n",
    "    print(\"los niveles asignados son:\",asignaciones[s])\n",
    "    if len(asignaciones[s]) > tope:\n",
    "        print(\"por favor acudir con tu superior, puesto que tienes muchos niveles asignados\")\n",
    "    else:\n",
    "        print(\"la cantidad de nieveles asignados está ok\")\n",
    "    print(\"\")"
   ]
  },
  {
   "cell_type": "markdown",
   "id": "873a101d",
   "metadata": {},
   "source": [
    "# Ciclo WHILE"
   ]
  },
  {
   "cell_type": "code",
   "execution_count": 6,
   "id": "807c56ef",
   "metadata": {},
   "outputs": [
    {
     "name": "stdout",
     "output_type": "stream",
     "text": [
      "40\n"
     ]
    }
   ],
   "source": [
    "volumenes = [5, 10, 15, 10]\n",
    "suma =0\n",
    "i=0\n",
    "while i<len(volumenes):\n",
    "    suma = suma + volumenes[i]\n",
    "    i= i + 1\n",
    "print(suma)"
   ]
  }
 ],
 "metadata": {
  "kernelspec": {
   "display_name": "Python 3 (ipykernel)",
   "language": "python",
   "name": "python3"
  },
  "language_info": {
   "codemirror_mode": {
    "name": "ipython",
    "version": 3
   },
   "file_extension": ".py",
   "mimetype": "text/x-python",
   "name": "python",
   "nbconvert_exporter": "python",
   "pygments_lexer": "ipython3",
   "version": "3.9.7"
  }
 },
 "nbformat": 4,
 "nbformat_minor": 5
}
