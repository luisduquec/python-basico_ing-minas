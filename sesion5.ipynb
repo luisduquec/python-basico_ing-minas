{
 "cells": [
  {
   "cell_type": "markdown",
   "id": "22457bbb",
   "metadata": {},
   "source": [
    "# Reglas si nuestro paquete/modulo proviene de un doc Jupyter Notebook (.ipynb)"
   ]
  },
  {
   "cell_type": "markdown",
   "id": "3a83119e",
   "metadata": {},
   "source": [
    "1. Eliminar o comentar todas las lineas de codigo que generen salidas por pantalla (outputs)\n",
    "2. Guardar y descargarlo como archivo python (.py)\n",
    "3. Importar y usar las funciones del paquete"
   ]
  },
  {
   "cell_type": "markdown",
   "id": "f8a45c94",
   "metadata": {},
   "source": [
    "## Importar modulos"
   ]
  },
  {
   "cell_type": "code",
   "execution_count": 17,
   "id": "f900d999",
   "metadata": {},
   "outputs": [],
   "source": [
    "from sesion4 import *\n",
    "import math"
   ]
  },
  {
   "cell_type": "code",
   "execution_count": null,
   "id": "2c078db0",
   "metadata": {},
   "outputs": [],
   "source": [
    "cubo(5)"
   ]
  },
  {
   "cell_type": "code",
   "execution_count": null,
   "id": "506d43e8",
   "metadata": {},
   "outputs": [],
   "source": [
    "asignaciones_supervisor_v1()"
   ]
  },
  {
   "cell_type": "code",
   "execution_count": null,
   "id": "6534e59a",
   "metadata": {},
   "outputs": [],
   "source": [
    "asignaciones_supervisor_v3()"
   ]
  },
  {
   "cell_type": "markdown",
   "id": "ca38612b",
   "metadata": {},
   "source": [
    "## Funcion 1 (producto_lista)"
   ]
  },
  {
   "cell_type": "code",
   "execution_count": 14,
   "id": "3d870b6b",
   "metadata": {},
   "outputs": [
    {
     "data": {
      "text/plain": [
       "240"
      ]
     },
     "execution_count": 14,
     "metadata": {},
     "output_type": "execute_result"
    }
   ],
   "source": [
    "l=[1,2,3,4,10]\n",
    "\n",
    "def producto_lista(lista):\n",
    "    prod = 1\n",
    "    for n in lista:\n",
    "        prod = prod * n\n",
    "    return(prod)\n",
    "\n",
    "producto_lista(l)"
   ]
  },
  {
   "cell_type": "markdown",
   "id": "9dcd0f59",
   "metadata": {},
   "source": [
    "## Funcion 1 (producto_lista) version math"
   ]
  },
  {
   "cell_type": "code",
   "execution_count": 20,
   "id": "9de3a411",
   "metadata": {},
   "outputs": [
    {
     "name": "stdout",
     "output_type": "stream",
     "text": [
      "24\n"
     ]
    }
   ],
   "source": [
    "l=[1,2,3,4]\n",
    "producto = math.prod(l)\n",
    "print(producto)"
   ]
  },
  {
   "cell_type": "markdown",
   "id": "779d64f1",
   "metadata": {},
   "source": [
    "## Funcion 2 (grados_to_radianes)"
   ]
  },
  {
   "cell_type": "code",
   "execution_count": 16,
   "id": "04884a0f",
   "metadata": {},
   "outputs": [
    {
     "data": {
      "text/plain": [
       "6.28"
      ]
     },
     "execution_count": 16,
     "metadata": {},
     "output_type": "execute_result"
    }
   ],
   "source": [
    "grad = 360\n",
    "\n",
    "def grados_to_radianes(g):\n",
    "    radianes = g *3.14/180\n",
    "    return(radianes)\n",
    "\n",
    "grados_to_radianes(grad)"
   ]
  },
  {
   "cell_type": "markdown",
   "id": "e9d5300f",
   "metadata": {},
   "source": [
    "## Funcion 2 (grados_to_radianes) version math"
   ]
  },
  {
   "cell_type": "code",
   "execution_count": 22,
   "id": "d2aeca96",
   "metadata": {},
   "outputs": [
    {
     "data": {
      "text/plain": [
       "3.141592653589793"
      ]
     },
     "execution_count": 22,
     "metadata": {},
     "output_type": "execute_result"
    }
   ],
   "source": [
    "grad = 180\n",
    "math.radians(grad)"
   ]
  },
  {
   "cell_type": "code",
   "execution_count": 17,
   "id": "a9b8ae4f",
   "metadata": {},
   "outputs": [
    {
     "name": "stdout",
     "output_type": "stream",
     "text": [
      "No se pudo calcular, debido a que nuestro diccionario no contenia una clave 'varianza'\n"
     ]
    }
   ],
   "source": [
    "recursos = {\"volumen\":120,\"var\":10}\n",
    "\n",
    "def clasificacion(dic): \n",
    "    def clasificacion_recursos(dic): #medidos, indicados, inferidos\n",
    "        try:\n",
    "            if dic[\"varianza\"] < 20:\n",
    "                tipo_recurso = \"Medido\"\n",
    "            elif dic[\"varianza\"] >= 20 and dic[\"varianza\"] < 50:\n",
    "                tipo_recurso = \"Indicado\"\n",
    "            else:\n",
    "                tipo_recurso = \"Inferido\"\n",
    "\n",
    "            return (tipo_recurso)\n",
    "        except:\n",
    "            mensaje_error = \"No se pudo calcular, debido a que nuestro diccionario no contenia una clave 'varianza'\"\n",
    "            return (mensaje_error)\n",
    "            \n",
    "    \n",
    "    return(clasificacion_recursos(dic))\n",
    "\n",
    "print(clasificacion(recursos))"
   ]
  }
 ],
 "metadata": {
  "kernelspec": {
   "display_name": "Python 3 (ipykernel)",
   "language": "python",
   "name": "python3"
  },
  "language_info": {
   "codemirror_mode": {
    "name": "ipython",
    "version": 3
   },
   "file_extension": ".py",
   "mimetype": "text/x-python",
   "name": "python",
   "nbconvert_exporter": "python",
   "pygments_lexer": "ipython3",
   "version": "3.9.7"
  }
 },
 "nbformat": 4,
 "nbformat_minor": 5
}
