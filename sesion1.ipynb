{
 "cells": [
  {
   "cell_type": "code",
   "execution_count": 15,
   "id": "7bc56b7a",
   "metadata": {},
   "outputs": [],
   "source": [
    "x = 10\n",
    "y = 12"
   ]
  },
  {
   "cell_type": "code",
   "execution_count": 16,
   "id": "ec05fcf6",
   "metadata": {},
   "outputs": [
    {
     "name": "stdout",
     "output_type": "stream",
     "text": [
      "la suma de x\n"
     ]
    }
   ],
   "source": [
    "print(\"la suma de x\")"
   ]
  },
  {
   "cell_type": "markdown",
   "id": "51e0bdf4",
   "metadata": {},
   "source": [
    "# Suma"
   ]
  },
  {
   "cell_type": "code",
   "execution_count": 17,
   "id": "fecec227",
   "metadata": {},
   "outputs": [
    {
     "name": "stdout",
     "output_type": "stream",
     "text": [
      "la suma de 10 y 12 es: 22\n"
     ]
    }
   ],
   "source": [
    "print(\"la suma de\",x, \"y\", y,\"es:\",x+y)"
   ]
  },
  {
   "cell_type": "markdown",
   "id": "ad7cbd4e",
   "metadata": {},
   "source": [
    "# Resta"
   ]
  },
  {
   "cell_type": "code",
   "execution_count": 18,
   "id": "b61a96b1",
   "metadata": {},
   "outputs": [
    {
     "name": "stdout",
     "output_type": "stream",
     "text": [
      "la resta de 10 y 12 es: -2\n"
     ]
    }
   ],
   "source": [
    "print(\"la resta de\",x, \"y\", y,\"es:\",x-y)"
   ]
  },
  {
   "cell_type": "markdown",
   "id": "5477ed2b",
   "metadata": {},
   "source": [
    "# Multiplicacion"
   ]
  },
  {
   "cell_type": "code",
   "execution_count": 19,
   "id": "a054a75a",
   "metadata": {},
   "outputs": [
    {
     "name": "stdout",
     "output_type": "stream",
     "text": [
      "la multiplicacion de 10 y 12 es: 120\n"
     ]
    }
   ],
   "source": [
    "print(\"la multiplicacion de\",x, \"y\", y,\"es:\",x*y)"
   ]
  },
  {
   "cell_type": "markdown",
   "id": "ce8728dd",
   "metadata": {},
   "source": [
    "# Division"
   ]
  },
  {
   "cell_type": "code",
   "execution_count": 20,
   "id": "6d3f501f",
   "metadata": {},
   "outputs": [
    {
     "name": "stdout",
     "output_type": "stream",
     "text": [
      "la division de 10 y 12 es: 0.8333333333333334\n"
     ]
    }
   ],
   "source": [
    "print(\"la division de\",x, \"y\", y,\"es:\",x/y)"
   ]
  },
  {
   "cell_type": "markdown",
   "id": "7cab2e6c",
   "metadata": {},
   "source": [
    "# Operacion Modulo"
   ]
  },
  {
   "cell_type": "code",
   "execution_count": 21,
   "id": "4dff7202",
   "metadata": {},
   "outputs": [
    {
     "name": "stdout",
     "output_type": "stream",
     "text": [
      "la operacion modulo de 12 y 10 es: 2\n"
     ]
    }
   ],
   "source": [
    "print(\"la operacion modulo de\",y, \"y\", x,\"es:\",y%x)"
   ]
  },
  {
   "cell_type": "markdown",
   "id": "6f9851f8",
   "metadata": {},
   "source": [
    "# Division entera"
   ]
  },
  {
   "cell_type": "code",
   "execution_count": 22,
   "id": "d91b2e7f",
   "metadata": {},
   "outputs": [
    {
     "name": "stdout",
     "output_type": "stream",
     "text": [
      "la division entera de 12 y 10 es: 1\n"
     ]
    }
   ],
   "source": [
    "print(\"la division entera de\",y, \"y\", x,\"es:\",y//x)"
   ]
  },
  {
   "cell_type": "markdown",
   "id": "d9e07502",
   "metadata": {},
   "source": [
    "# Reglas para nombrar variables"
   ]
  },
  {
   "cell_type": "markdown",
   "id": "2f696732",
   "metadata": {},
   "source": [
    "1. secuencias arbitrariamente largas de valores alfanumericos\n",
    "2. comenzar por un valor alfabetico\n",
    "3. \"_\" es interpretado como un valor alfabetico"
   ]
  },
  {
   "cell_type": "code",
   "execution_count": 85,
   "id": "2b5524a3",
   "metadata": {},
   "outputs": [
    {
     "ename": "SyntaxError",
     "evalue": "invalid syntax (Temp/ipykernel_9004/310388064.py, line 1)",
     "output_type": "error",
     "traceback": [
      "\u001b[1;36m  File \u001b[1;32m\"C:\\Users\\Luis\\AppData\\Local\\Temp/ipykernel_9004/310388064.py\"\u001b[1;36m, line \u001b[1;32m1\u001b[0m\n\u001b[1;33m    mi variable = 1\u001b[0m\n\u001b[1;37m       ^\u001b[0m\n\u001b[1;31mSyntaxError\u001b[0m\u001b[1;31m:\u001b[0m invalid syntax\n"
     ]
    }
   ],
   "source": [
    "mi variable = 1"
   ]
  },
  {
   "cell_type": "code",
   "execution_count": 87,
   "id": "4e924d3c",
   "metadata": {},
   "outputs": [],
   "source": [
    "mi_variable = 1"
   ]
  },
  {
   "cell_type": "code",
   "execution_count": 89,
   "id": "8b7289e2",
   "metadata": {},
   "outputs": [
    {
     "ename": "SyntaxError",
     "evalue": "invalid syntax (Temp/ipykernel_9004/1646517068.py, line 1)",
     "output_type": "error",
     "traceback": [
      "\u001b[1;36m  File \u001b[1;32m\"C:\\Users\\Luis\\AppData\\Local\\Temp/ipykernel_9004/1646517068.py\"\u001b[1;36m, line \u001b[1;32m1\u001b[0m\n\u001b[1;33m    1mi_variable = 10\u001b[0m\n\u001b[1;37m     ^\u001b[0m\n\u001b[1;31mSyntaxError\u001b[0m\u001b[1;31m:\u001b[0m invalid syntax\n"
     ]
    }
   ],
   "source": [
    "1mi_variable = 10"
   ]
  },
  {
   "cell_type": "code",
   "execution_count": 90,
   "id": "02bb72cb",
   "metadata": {},
   "outputs": [],
   "source": [
    "mi_variable1 = 10"
   ]
  },
  {
   "cell_type": "markdown",
   "id": "1ff8ace6",
   "metadata": {},
   "source": [
    "# variables de Tipo Booleano"
   ]
  },
  {
   "cell_type": "code",
   "execution_count": 92,
   "id": "281e5173",
   "metadata": {},
   "outputs": [
    {
     "data": {
      "text/plain": [
       "False"
      ]
     },
     "execution_count": 92,
     "metadata": {},
     "output_type": "execute_result"
    }
   ],
   "source": [
    "12 < 10"
   ]
  },
  {
   "cell_type": "code",
   "execution_count": 94,
   "id": "584e09db",
   "metadata": {},
   "outputs": [
    {
     "data": {
      "text/plain": [
       "True"
      ]
     },
     "execution_count": 94,
     "metadata": {},
     "output_type": "execute_result"
    }
   ],
   "source": [
    "12>10"
   ]
  },
  {
   "cell_type": "code",
   "execution_count": 96,
   "id": "b63cbca6",
   "metadata": {},
   "outputs": [
    {
     "name": "stdout",
     "output_type": "stream",
     "text": [
      "False\n"
     ]
    }
   ],
   "source": [
    "b = 12 < 10\n",
    "print(b)"
   ]
  },
  {
   "cell_type": "markdown",
   "id": "6ec2eaf3",
   "metadata": {},
   "source": [
    "# Input(Comando para ingresar informacion solicitada)"
   ]
  },
  {
   "cell_type": "code",
   "execution_count": 100,
   "id": "ed2b0eb7",
   "metadata": {},
   "outputs": [
    {
     "name": "stdout",
     "output_type": "stream",
     "text": [
      "por favor ingresar un valor: 40\n",
      "30\n"
     ]
    }
   ],
   "source": [
    "v = int (input(\"por favor ingresar un valor: \"))\n",
    "\n",
    "z = v-10\n",
    "\n",
    "print(z)"
   ]
  },
  {
   "cell_type": "code",
   "execution_count": 104,
   "id": "cd90ee2e",
   "metadata": {},
   "outputs": [
    {
     "name": "stdout",
     "output_type": "stream",
     "text": [
      "por favor ingresar un valor: 34\n",
      "<class 'int'>\n"
     ]
    }
   ],
   "source": [
    "v = int(input(\"por favor ingresar un valor: \"))\n",
    "print(type(v))"
   ]
  },
  {
   "cell_type": "markdown",
   "id": "e7b67fa1",
   "metadata": {},
   "source": [
    "# Concatenacion de Strings"
   ]
  },
  {
   "cell_type": "code",
   "execution_count": 126,
   "id": "318a20f0",
   "metadata": {},
   "outputs": [
    {
     "name": "stdout",
     "output_type": "stream",
     "text": [
      "hola\n",
      "¿como estas?\n",
      "hola ¿como estas?\n"
     ]
    }
   ],
   "source": [
    "palabra1 = \"hola\"\n",
    "palabra2 = \"¿como estas?\"\n",
    "print(palabra1)\n",
    "print(palabra2)\n",
    "\n",
    "print(palabra1 + \" \" + palabra2)"
   ]
  },
  {
   "cell_type": "markdown",
   "id": "4aa39a0f",
   "metadata": {},
   "source": [
    "# Numeros reales"
   ]
  },
  {
   "cell_type": "code",
   "execution_count": 136,
   "id": "86ad228a",
   "metadata": {},
   "outputs": [
    {
     "name": "stdout",
     "output_type": "stream",
     "text": [
      "por favor ingrese su estatura: 34\n",
      "<class 'float'> 34.0\n"
     ]
    }
   ],
   "source": [
    "estatura = float (input(\"por favor ingrese su estatura: \"))\n",
    "print(type(estatura), estatura)"
   ]
  }
 ],
 "metadata": {
  "kernelspec": {
   "display_name": "Python 3 (ipykernel)",
   "language": "python",
   "name": "python3"
  },
  "language_info": {
   "codemirror_mode": {
    "name": "ipython",
    "version": 3
   },
   "file_extension": ".py",
   "mimetype": "text/x-python",
   "name": "python",
   "nbconvert_exporter": "python",
   "pygments_lexer": "ipython3",
   "version": "3.9.7"
  }
 },
 "nbformat": 4,
 "nbformat_minor": 5
}
