{
 "cells": [
  {
   "cell_type": "code",
   "execution_count": 83,
   "id": "2ed81774",
   "metadata": {},
   "outputs": [],
   "source": [
    "import pandas as pd"
   ]
  },
  {
   "cell_type": "code",
   "execution_count": 108,
   "id": "2390c11f",
   "metadata": {},
   "outputs": [],
   "source": [
    "df = pd.read_csv(\"supervisores.csv\")"
   ]
  },
  {
   "cell_type": "code",
   "execution_count": 99,
   "id": "590a9712",
   "metadata": {},
   "outputs": [
    {
     "data": {
      "text/html": [
       "<div>\n",
       "<style scoped>\n",
       "    .dataframe tbody tr th:only-of-type {\n",
       "        vertical-align: middle;\n",
       "    }\n",
       "\n",
       "    .dataframe tbody tr th {\n",
       "        vertical-align: top;\n",
       "    }\n",
       "\n",
       "    .dataframe thead th {\n",
       "        text-align: right;\n",
       "    }\n",
       "</style>\n",
       "<table border=\"1\" class=\"dataframe\">\n",
       "  <thead>\n",
       "    <tr style=\"text-align: right;\">\n",
       "      <th></th>\n",
       "      <th>nombre</th>\n",
       "      <th>cargo</th>\n",
       "      <th>edad</th>\n",
       "      <th>estado civil</th>\n",
       "      <th>hijos</th>\n",
       "      <th>experiencia</th>\n",
       "    </tr>\n",
       "  </thead>\n",
       "  <tbody>\n",
       "    <tr>\n",
       "      <th>0</th>\n",
       "      <td>Carlos Aguirre</td>\n",
       "      <td>Supervisor</td>\n",
       "      <td>28</td>\n",
       "      <td>casado</td>\n",
       "      <td>2</td>\n",
       "      <td>2</td>\n",
       "    </tr>\n",
       "    <tr>\n",
       "      <th>1</th>\n",
       "      <td>Cristian Velez</td>\n",
       "      <td>Supervisor</td>\n",
       "      <td>23</td>\n",
       "      <td>soltero</td>\n",
       "      <td>1</td>\n",
       "      <td>1</td>\n",
       "    </tr>\n",
       "    <tr>\n",
       "      <th>2</th>\n",
       "      <td>Ana Sanchez</td>\n",
       "      <td>Coordinador</td>\n",
       "      <td>29</td>\n",
       "      <td>soltero</td>\n",
       "      <td>0</td>\n",
       "      <td>3</td>\n",
       "    </tr>\n",
       "    <tr>\n",
       "      <th>3</th>\n",
       "      <td>Juan Ortiz</td>\n",
       "      <td>Coordinador</td>\n",
       "      <td>35</td>\n",
       "      <td>divorciado</td>\n",
       "      <td>0</td>\n",
       "      <td>8</td>\n",
       "    </tr>\n",
       "    <tr>\n",
       "      <th>4</th>\n",
       "      <td>Paola Velandia</td>\n",
       "      <td>Supervisor</td>\n",
       "      <td>26</td>\n",
       "      <td>soltero</td>\n",
       "      <td>4</td>\n",
       "      <td>5</td>\n",
       "    </tr>\n",
       "    <tr>\n",
       "      <th>5</th>\n",
       "      <td>Raul Gomez</td>\n",
       "      <td>Auxiliar</td>\n",
       "      <td>28</td>\n",
       "      <td>soltero</td>\n",
       "      <td>1</td>\n",
       "      <td>3</td>\n",
       "    </tr>\n",
       "    <tr>\n",
       "      <th>6</th>\n",
       "      <td>Paula Cardona</td>\n",
       "      <td>Auxiliar</td>\n",
       "      <td>25</td>\n",
       "      <td>soltero</td>\n",
       "      <td>1</td>\n",
       "      <td>1</td>\n",
       "    </tr>\n",
       "    <tr>\n",
       "      <th>7</th>\n",
       "      <td>Esteban Zuñiga</td>\n",
       "      <td>Jefe turno</td>\n",
       "      <td>32</td>\n",
       "      <td>casado</td>\n",
       "      <td>2</td>\n",
       "      <td>8</td>\n",
       "    </tr>\n",
       "    <tr>\n",
       "      <th>8</th>\n",
       "      <td>Luisa Jimenez</td>\n",
       "      <td>Supervisor</td>\n",
       "      <td>25</td>\n",
       "      <td>soltero</td>\n",
       "      <td>3</td>\n",
       "      <td>2</td>\n",
       "    </tr>\n",
       "    <tr>\n",
       "      <th>9</th>\n",
       "      <td>Federico Martinez</td>\n",
       "      <td>Superintendente</td>\n",
       "      <td>46</td>\n",
       "      <td>casado</td>\n",
       "      <td>1</td>\n",
       "      <td>25</td>\n",
       "    </tr>\n",
       "  </tbody>\n",
       "</table>\n",
       "</div>"
      ],
      "text/plain": [
       "              nombre            cargo  edad estado civil  hijos  experiencia\n",
       "0     Carlos Aguirre       Supervisor    28       casado      2            2\n",
       "1     Cristian Velez       Supervisor    23      soltero      1            1\n",
       "2        Ana Sanchez      Coordinador    29      soltero      0            3\n",
       "3         Juan Ortiz      Coordinador    35   divorciado      0            8\n",
       "4     Paola Velandia       Supervisor    26      soltero      4            5\n",
       "5         Raul Gomez         Auxiliar    28      soltero      1            3\n",
       "6      Paula Cardona         Auxiliar    25      soltero      1            1\n",
       "7     Esteban Zuñiga       Jefe turno    32       casado      2            8\n",
       "8      Luisa Jimenez       Supervisor    25      soltero      3            2\n",
       "9  Federico Martinez  Superintendente    46       casado      1           25"
      ]
     },
     "execution_count": 99,
     "metadata": {},
     "output_type": "execute_result"
    }
   ],
   "source": [
    "df"
   ]
  },
  {
   "cell_type": "markdown",
   "id": "fa51a422",
   "metadata": {},
   "source": [
    "# Extaer columnas del DataFrame"
   ]
  },
  {
   "cell_type": "code",
   "execution_count": 4,
   "id": "b813cf2a",
   "metadata": {},
   "outputs": [
    {
     "data": {
      "text/plain": [
       "0       Carlos Aguirre\n",
       "1       Cristian Velez\n",
       "2          Ana Sanchez\n",
       "3           Juan Ortiz\n",
       "4       Paola Velandia\n",
       "5           Raul Gomez\n",
       "6        Paula Cardona\n",
       "7       Esteban Zuñiga\n",
       "8        Luisa Jimenez\n",
       "9    Federico Martinez\n",
       "Name: nombre, dtype: object"
      ]
     },
     "execution_count": 4,
     "metadata": {},
     "output_type": "execute_result"
    }
   ],
   "source": [
    "df[\"nombre\"]"
   ]
  },
  {
   "cell_type": "code",
   "execution_count": 5,
   "id": "b969ec04",
   "metadata": {},
   "outputs": [
    {
     "data": {
      "text/plain": [
       "pandas.core.series.Series"
      ]
     },
     "execution_count": 5,
     "metadata": {},
     "output_type": "execute_result"
    }
   ],
   "source": [
    "type(df[\"nombre\"])"
   ]
  },
  {
   "cell_type": "code",
   "execution_count": 6,
   "id": "fe28ffdb",
   "metadata": {},
   "outputs": [
    {
     "data": {
      "text/plain": [
       "0         Supervisor\n",
       "1         Supervisor\n",
       "2        Coordinador\n",
       "3        Coordinador\n",
       "4         Supervisor\n",
       "5           Auxiliar\n",
       "6           Auxiliar\n",
       "7         Jefe turno\n",
       "8         Supervisor\n",
       "9    Superintendente\n",
       "Name: cargo, dtype: object"
      ]
     },
     "execution_count": 6,
     "metadata": {},
     "output_type": "execute_result"
    }
   ],
   "source": [
    "df[\"cargo\"]"
   ]
  },
  {
   "cell_type": "code",
   "execution_count": 8,
   "id": "f1994125",
   "metadata": {},
   "outputs": [
    {
     "data": {
      "text/html": [
       "<div>\n",
       "<style scoped>\n",
       "    .dataframe tbody tr th:only-of-type {\n",
       "        vertical-align: middle;\n",
       "    }\n",
       "\n",
       "    .dataframe tbody tr th {\n",
       "        vertical-align: top;\n",
       "    }\n",
       "\n",
       "    .dataframe thead th {\n",
       "        text-align: right;\n",
       "    }\n",
       "</style>\n",
       "<table border=\"1\" class=\"dataframe\">\n",
       "  <thead>\n",
       "    <tr style=\"text-align: right;\">\n",
       "      <th></th>\n",
       "      <th>nombre</th>\n",
       "      <th>cargo</th>\n",
       "    </tr>\n",
       "  </thead>\n",
       "  <tbody>\n",
       "    <tr>\n",
       "      <th>0</th>\n",
       "      <td>Carlos Aguirre</td>\n",
       "      <td>Supervisor</td>\n",
       "    </tr>\n",
       "    <tr>\n",
       "      <th>1</th>\n",
       "      <td>Cristian Velez</td>\n",
       "      <td>Supervisor</td>\n",
       "    </tr>\n",
       "    <tr>\n",
       "      <th>2</th>\n",
       "      <td>Ana Sanchez</td>\n",
       "      <td>Coordinador</td>\n",
       "    </tr>\n",
       "    <tr>\n",
       "      <th>3</th>\n",
       "      <td>Juan Ortiz</td>\n",
       "      <td>Coordinador</td>\n",
       "    </tr>\n",
       "    <tr>\n",
       "      <th>4</th>\n",
       "      <td>Paola Velandia</td>\n",
       "      <td>Supervisor</td>\n",
       "    </tr>\n",
       "    <tr>\n",
       "      <th>5</th>\n",
       "      <td>Raul Gomez</td>\n",
       "      <td>Auxiliar</td>\n",
       "    </tr>\n",
       "    <tr>\n",
       "      <th>6</th>\n",
       "      <td>Paula Cardona</td>\n",
       "      <td>Auxiliar</td>\n",
       "    </tr>\n",
       "    <tr>\n",
       "      <th>7</th>\n",
       "      <td>Esteban Zuñiga</td>\n",
       "      <td>Jefe turno</td>\n",
       "    </tr>\n",
       "    <tr>\n",
       "      <th>8</th>\n",
       "      <td>Luisa Jimenez</td>\n",
       "      <td>Supervisor</td>\n",
       "    </tr>\n",
       "    <tr>\n",
       "      <th>9</th>\n",
       "      <td>Federico Martinez</td>\n",
       "      <td>Superintendente</td>\n",
       "    </tr>\n",
       "  </tbody>\n",
       "</table>\n",
       "</div>"
      ],
      "text/plain": [
       "              nombre            cargo\n",
       "0     Carlos Aguirre       Supervisor\n",
       "1     Cristian Velez       Supervisor\n",
       "2        Ana Sanchez      Coordinador\n",
       "3         Juan Ortiz      Coordinador\n",
       "4     Paola Velandia       Supervisor\n",
       "5         Raul Gomez         Auxiliar\n",
       "6      Paula Cardona         Auxiliar\n",
       "7     Esteban Zuñiga       Jefe turno\n",
       "8      Luisa Jimenez       Supervisor\n",
       "9  Federico Martinez  Superintendente"
      ]
     },
     "execution_count": 8,
     "metadata": {},
     "output_type": "execute_result"
    }
   ],
   "source": [
    "df[[\"nombre\",\"cargo\"]]"
   ]
  },
  {
   "cell_type": "code",
   "execution_count": 22,
   "id": "2439088c",
   "metadata": {},
   "outputs": [
    {
     "data": {
      "text/plain": [
       "pandas.core.frame.DataFrame"
      ]
     },
     "execution_count": 22,
     "metadata": {},
     "output_type": "execute_result"
    }
   ],
   "source": [
    "type(df[[\"nombre\",\"cargo\"]])"
   ]
  },
  {
   "cell_type": "markdown",
   "id": "07f6196a",
   "metadata": {},
   "source": [
    "# Consultas de filas (registros) de nuestro DataFrame utilizando el comando iloc"
   ]
  },
  {
   "cell_type": "code",
   "execution_count": 26,
   "id": "48abd035",
   "metadata": {},
   "outputs": [
    {
     "data": {
      "text/html": [
       "<div>\n",
       "<style scoped>\n",
       "    .dataframe tbody tr th:only-of-type {\n",
       "        vertical-align: middle;\n",
       "    }\n",
       "\n",
       "    .dataframe tbody tr th {\n",
       "        vertical-align: top;\n",
       "    }\n",
       "\n",
       "    .dataframe thead th {\n",
       "        text-align: right;\n",
       "    }\n",
       "</style>\n",
       "<table border=\"1\" class=\"dataframe\">\n",
       "  <thead>\n",
       "    <tr style=\"text-align: right;\">\n",
       "      <th></th>\n",
       "      <th>nombre</th>\n",
       "      <th>cargo</th>\n",
       "      <th>edad</th>\n",
       "      <th>estado civil</th>\n",
       "      <th>hijos</th>\n",
       "      <th>experiencia</th>\n",
       "    </tr>\n",
       "  </thead>\n",
       "  <tbody>\n",
       "    <tr>\n",
       "      <th>5</th>\n",
       "      <td>Raul Gomez</td>\n",
       "      <td>Auxiliar</td>\n",
       "      <td>28</td>\n",
       "      <td>soltero</td>\n",
       "      <td>1</td>\n",
       "      <td>3</td>\n",
       "    </tr>\n",
       "  </tbody>\n",
       "</table>\n",
       "</div>"
      ],
      "text/plain": [
       "       nombre     cargo  edad estado civil  hijos  experiencia\n",
       "5  Raul Gomez  Auxiliar    28      soltero      1            3"
      ]
     },
     "execution_count": 26,
     "metadata": {},
     "output_type": "execute_result"
    }
   ],
   "source": [
    "df.iloc[[5]]"
   ]
  },
  {
   "cell_type": "code",
   "execution_count": 28,
   "id": "46097aae",
   "metadata": {},
   "outputs": [
    {
     "data": {
      "text/html": [
       "<div>\n",
       "<style scoped>\n",
       "    .dataframe tbody tr th:only-of-type {\n",
       "        vertical-align: middle;\n",
       "    }\n",
       "\n",
       "    .dataframe tbody tr th {\n",
       "        vertical-align: top;\n",
       "    }\n",
       "\n",
       "    .dataframe thead th {\n",
       "        text-align: right;\n",
       "    }\n",
       "</style>\n",
       "<table border=\"1\" class=\"dataframe\">\n",
       "  <thead>\n",
       "    <tr style=\"text-align: right;\">\n",
       "      <th></th>\n",
       "      <th>nombre</th>\n",
       "      <th>cargo</th>\n",
       "      <th>edad</th>\n",
       "      <th>estado civil</th>\n",
       "      <th>hijos</th>\n",
       "      <th>experiencia</th>\n",
       "    </tr>\n",
       "  </thead>\n",
       "  <tbody>\n",
       "    <tr>\n",
       "      <th>2</th>\n",
       "      <td>Ana Sanchez</td>\n",
       "      <td>Coordinador</td>\n",
       "      <td>29</td>\n",
       "      <td>soltero</td>\n",
       "      <td>0</td>\n",
       "      <td>3</td>\n",
       "    </tr>\n",
       "    <tr>\n",
       "      <th>3</th>\n",
       "      <td>Juan Ortiz</td>\n",
       "      <td>Coordinador</td>\n",
       "      <td>35</td>\n",
       "      <td>divorciado</td>\n",
       "      <td>0</td>\n",
       "      <td>8</td>\n",
       "    </tr>\n",
       "    <tr>\n",
       "      <th>4</th>\n",
       "      <td>Paola Velandia</td>\n",
       "      <td>Supervisor</td>\n",
       "      <td>26</td>\n",
       "      <td>soltero</td>\n",
       "      <td>4</td>\n",
       "      <td>5</td>\n",
       "    </tr>\n",
       "  </tbody>\n",
       "</table>\n",
       "</div>"
      ],
      "text/plain": [
       "           nombre        cargo  edad estado civil  hijos  experiencia\n",
       "2     Ana Sanchez  Coordinador    29      soltero      0            3\n",
       "3      Juan Ortiz  Coordinador    35   divorciado      0            8\n",
       "4  Paola Velandia   Supervisor    26      soltero      4            5"
      ]
     },
     "execution_count": 28,
     "metadata": {},
     "output_type": "execute_result"
    }
   ],
   "source": [
    "df.iloc[2:5]"
   ]
  },
  {
   "cell_type": "code",
   "execution_count": 29,
   "id": "76513b25",
   "metadata": {},
   "outputs": [
    {
     "data": {
      "text/html": [
       "<div>\n",
       "<style scoped>\n",
       "    .dataframe tbody tr th:only-of-type {\n",
       "        vertical-align: middle;\n",
       "    }\n",
       "\n",
       "    .dataframe tbody tr th {\n",
       "        vertical-align: top;\n",
       "    }\n",
       "\n",
       "    .dataframe thead th {\n",
       "        text-align: right;\n",
       "    }\n",
       "</style>\n",
       "<table border=\"1\" class=\"dataframe\">\n",
       "  <thead>\n",
       "    <tr style=\"text-align: right;\">\n",
       "      <th></th>\n",
       "      <th>nombre</th>\n",
       "      <th>cargo</th>\n",
       "      <th>edad</th>\n",
       "      <th>estado civil</th>\n",
       "      <th>hijos</th>\n",
       "      <th>experiencia</th>\n",
       "    </tr>\n",
       "  </thead>\n",
       "  <tbody>\n",
       "    <tr>\n",
       "      <th>0</th>\n",
       "      <td>Carlos Aguirre</td>\n",
       "      <td>Supervisor</td>\n",
       "      <td>28</td>\n",
       "      <td>casado</td>\n",
       "      <td>2</td>\n",
       "      <td>2</td>\n",
       "    </tr>\n",
       "    <tr>\n",
       "      <th>1</th>\n",
       "      <td>Cristian Velez</td>\n",
       "      <td>Supervisor</td>\n",
       "      <td>23</td>\n",
       "      <td>soltero</td>\n",
       "      <td>1</td>\n",
       "      <td>1</td>\n",
       "    </tr>\n",
       "    <tr>\n",
       "      <th>2</th>\n",
       "      <td>Ana Sanchez</td>\n",
       "      <td>Coordinador</td>\n",
       "      <td>29</td>\n",
       "      <td>soltero</td>\n",
       "      <td>0</td>\n",
       "      <td>3</td>\n",
       "    </tr>\n",
       "    <tr>\n",
       "      <th>3</th>\n",
       "      <td>Juan Ortiz</td>\n",
       "      <td>Coordinador</td>\n",
       "      <td>35</td>\n",
       "      <td>divorciado</td>\n",
       "      <td>0</td>\n",
       "      <td>8</td>\n",
       "    </tr>\n",
       "    <tr>\n",
       "      <th>4</th>\n",
       "      <td>Paola Velandia</td>\n",
       "      <td>Supervisor</td>\n",
       "      <td>26</td>\n",
       "      <td>soltero</td>\n",
       "      <td>4</td>\n",
       "      <td>5</td>\n",
       "    </tr>\n",
       "    <tr>\n",
       "      <th>5</th>\n",
       "      <td>Raul Gomez</td>\n",
       "      <td>Auxiliar</td>\n",
       "      <td>28</td>\n",
       "      <td>soltero</td>\n",
       "      <td>1</td>\n",
       "      <td>3</td>\n",
       "    </tr>\n",
       "    <tr>\n",
       "      <th>6</th>\n",
       "      <td>Paula Cardona</td>\n",
       "      <td>Auxiliar</td>\n",
       "      <td>25</td>\n",
       "      <td>soltero</td>\n",
       "      <td>1</td>\n",
       "      <td>1</td>\n",
       "    </tr>\n",
       "    <tr>\n",
       "      <th>7</th>\n",
       "      <td>Esteban Zuñiga</td>\n",
       "      <td>Jefe turno</td>\n",
       "      <td>32</td>\n",
       "      <td>casado</td>\n",
       "      <td>2</td>\n",
       "      <td>8</td>\n",
       "    </tr>\n",
       "    <tr>\n",
       "      <th>8</th>\n",
       "      <td>Luisa Jimenez</td>\n",
       "      <td>Supervisor</td>\n",
       "      <td>25</td>\n",
       "      <td>soltero</td>\n",
       "      <td>3</td>\n",
       "      <td>2</td>\n",
       "    </tr>\n",
       "    <tr>\n",
       "      <th>9</th>\n",
       "      <td>Federico Martinez</td>\n",
       "      <td>Superintendente</td>\n",
       "      <td>46</td>\n",
       "      <td>casado</td>\n",
       "      <td>1</td>\n",
       "      <td>25</td>\n",
       "    </tr>\n",
       "  </tbody>\n",
       "</table>\n",
       "</div>"
      ],
      "text/plain": [
       "              nombre            cargo  edad estado civil  hijos  experiencia\n",
       "0     Carlos Aguirre       Supervisor    28       casado      2            2\n",
       "1     Cristian Velez       Supervisor    23      soltero      1            1\n",
       "2        Ana Sanchez      Coordinador    29      soltero      0            3\n",
       "3         Juan Ortiz      Coordinador    35   divorciado      0            8\n",
       "4     Paola Velandia       Supervisor    26      soltero      4            5\n",
       "5         Raul Gomez         Auxiliar    28      soltero      1            3\n",
       "6      Paula Cardona         Auxiliar    25      soltero      1            1\n",
       "7     Esteban Zuñiga       Jefe turno    32       casado      2            8\n",
       "8      Luisa Jimenez       Supervisor    25      soltero      3            2\n",
       "9  Federico Martinez  Superintendente    46       casado      1           25"
      ]
     },
     "execution_count": 29,
     "metadata": {},
     "output_type": "execute_result"
    }
   ],
   "source": [
    "df.iloc[:]"
   ]
  },
  {
   "cell_type": "code",
   "execution_count": 32,
   "id": "d4e1e382",
   "metadata": {},
   "outputs": [
    {
     "data": {
      "text/plain": [
       "'divorciado'"
      ]
     },
     "execution_count": 32,
     "metadata": {},
     "output_type": "execute_result"
    }
   ],
   "source": [
    "df.iloc[3,3]"
   ]
  },
  {
   "cell_type": "code",
   "execution_count": 41,
   "id": "7cde7f24",
   "metadata": {},
   "outputs": [
    {
     "data": {
      "text/html": [
       "<div>\n",
       "<style scoped>\n",
       "    .dataframe tbody tr th:only-of-type {\n",
       "        vertical-align: middle;\n",
       "    }\n",
       "\n",
       "    .dataframe tbody tr th {\n",
       "        vertical-align: top;\n",
       "    }\n",
       "\n",
       "    .dataframe thead th {\n",
       "        text-align: right;\n",
       "    }\n",
       "</style>\n",
       "<table border=\"1\" class=\"dataframe\">\n",
       "  <thead>\n",
       "    <tr style=\"text-align: right;\">\n",
       "      <th></th>\n",
       "      <th>edad</th>\n",
       "      <th>estado civil</th>\n",
       "      <th>hijos</th>\n",
       "      <th>experiencia</th>\n",
       "    </tr>\n",
       "  </thead>\n",
       "  <tbody>\n",
       "    <tr>\n",
       "      <th>0</th>\n",
       "      <td>28</td>\n",
       "      <td>casado</td>\n",
       "      <td>2</td>\n",
       "      <td>2</td>\n",
       "    </tr>\n",
       "    <tr>\n",
       "      <th>1</th>\n",
       "      <td>23</td>\n",
       "      <td>soltero</td>\n",
       "      <td>1</td>\n",
       "      <td>1</td>\n",
       "    </tr>\n",
       "    <tr>\n",
       "      <th>2</th>\n",
       "      <td>29</td>\n",
       "      <td>soltero</td>\n",
       "      <td>0</td>\n",
       "      <td>3</td>\n",
       "    </tr>\n",
       "  </tbody>\n",
       "</table>\n",
       "</div>"
      ],
      "text/plain": [
       "   edad estado civil  hijos  experiencia\n",
       "0    28       casado      2            2\n",
       "1    23      soltero      1            1\n",
       "2    29      soltero      0            3"
      ]
     },
     "execution_count": 41,
     "metadata": {},
     "output_type": "execute_result"
    }
   ],
   "source": [
    "df.iloc[:3,2:]"
   ]
  },
  {
   "cell_type": "code",
   "execution_count": 37,
   "id": "e6d6f763",
   "metadata": {},
   "outputs": [
    {
     "data": {
      "text/html": [
       "<div>\n",
       "<style scoped>\n",
       "    .dataframe tbody tr th:only-of-type {\n",
       "        vertical-align: middle;\n",
       "    }\n",
       "\n",
       "    .dataframe tbody tr th {\n",
       "        vertical-align: top;\n",
       "    }\n",
       "\n",
       "    .dataframe thead th {\n",
       "        text-align: right;\n",
       "    }\n",
       "</style>\n",
       "<table border=\"1\" class=\"dataframe\">\n",
       "  <thead>\n",
       "    <tr style=\"text-align: right;\">\n",
       "      <th></th>\n",
       "      <th>nombre</th>\n",
       "    </tr>\n",
       "  </thead>\n",
       "  <tbody>\n",
       "    <tr>\n",
       "      <th>2</th>\n",
       "      <td>Ana Sanchez</td>\n",
       "    </tr>\n",
       "    <tr>\n",
       "      <th>4</th>\n",
       "      <td>Paola Velandia</td>\n",
       "    </tr>\n",
       "  </tbody>\n",
       "</table>\n",
       "</div>"
      ],
      "text/plain": [
       "           nombre\n",
       "2     Ana Sanchez\n",
       "4  Paola Velandia"
      ]
     },
     "execution_count": 37,
     "metadata": {},
     "output_type": "execute_result"
    }
   ],
   "source": [
    "df.iloc[[2,4],[0]]"
   ]
  },
  {
   "cell_type": "code",
   "execution_count": 103,
   "id": "1bff270e",
   "metadata": {},
   "outputs": [
    {
     "data": {
      "text/html": [
       "<div>\n",
       "<style scoped>\n",
       "    .dataframe tbody tr th:only-of-type {\n",
       "        vertical-align: middle;\n",
       "    }\n",
       "\n",
       "    .dataframe tbody tr th {\n",
       "        vertical-align: top;\n",
       "    }\n",
       "\n",
       "    .dataframe thead th {\n",
       "        text-align: right;\n",
       "    }\n",
       "</style>\n",
       "<table border=\"1\" class=\"dataframe\">\n",
       "  <thead>\n",
       "    <tr style=\"text-align: right;\">\n",
       "      <th></th>\n",
       "      <th>nombre</th>\n",
       "      <th>edad</th>\n",
       "      <th>estado civil</th>\n",
       "    </tr>\n",
       "  </thead>\n",
       "  <tbody>\n",
       "    <tr>\n",
       "      <th>2</th>\n",
       "      <td>Ana Sanchez</td>\n",
       "      <td>29</td>\n",
       "      <td>soltero</td>\n",
       "    </tr>\n",
       "    <tr>\n",
       "      <th>4</th>\n",
       "      <td>Paola Velandia</td>\n",
       "      <td>26</td>\n",
       "      <td>soltero</td>\n",
       "    </tr>\n",
       "  </tbody>\n",
       "</table>\n",
       "</div>"
      ],
      "text/plain": [
       "           nombre  edad estado civil\n",
       "2     Ana Sanchez    29      soltero\n",
       "4  Paola Velandia    26      soltero"
      ]
     },
     "execution_count": 103,
     "metadata": {},
     "output_type": "execute_result"
    }
   ],
   "source": [
    "df.iloc[[2,4],[0,2,3]]"
   ]
  },
  {
   "cell_type": "markdown",
   "id": "bdf0270b",
   "metadata": {},
   "source": [
    "# Consultas de filas (registros) de nuestro DataFrame utilizando el comando loc"
   ]
  },
  {
   "cell_type": "code",
   "execution_count": 109,
   "id": "ae4cbb2f",
   "metadata": {},
   "outputs": [
    {
     "data": {
      "text/html": [
       "<div>\n",
       "<style scoped>\n",
       "    .dataframe tbody tr th:only-of-type {\n",
       "        vertical-align: middle;\n",
       "    }\n",
       "\n",
       "    .dataframe tbody tr th {\n",
       "        vertical-align: top;\n",
       "    }\n",
       "\n",
       "    .dataframe thead th {\n",
       "        text-align: right;\n",
       "    }\n",
       "</style>\n",
       "<table border=\"1\" class=\"dataframe\">\n",
       "  <thead>\n",
       "    <tr style=\"text-align: right;\">\n",
       "      <th></th>\n",
       "      <th>nombre</th>\n",
       "      <th>cargo</th>\n",
       "      <th>edad</th>\n",
       "      <th>estado civil</th>\n",
       "      <th>hijos</th>\n",
       "      <th>experiencia</th>\n",
       "    </tr>\n",
       "  </thead>\n",
       "  <tbody>\n",
       "    <tr>\n",
       "      <th>C-01</th>\n",
       "      <td>Carlos Aguirre</td>\n",
       "      <td>Supervisor</td>\n",
       "      <td>28</td>\n",
       "      <td>casado</td>\n",
       "      <td>2</td>\n",
       "      <td>2</td>\n",
       "    </tr>\n",
       "    <tr>\n",
       "      <th>C-02</th>\n",
       "      <td>Cristian Velez</td>\n",
       "      <td>Supervisor</td>\n",
       "      <td>23</td>\n",
       "      <td>soltero</td>\n",
       "      <td>1</td>\n",
       "      <td>1</td>\n",
       "    </tr>\n",
       "    <tr>\n",
       "      <th>C-03</th>\n",
       "      <td>Ana Sanchez</td>\n",
       "      <td>Coordinador</td>\n",
       "      <td>29</td>\n",
       "      <td>soltero</td>\n",
       "      <td>0</td>\n",
       "      <td>3</td>\n",
       "    </tr>\n",
       "    <tr>\n",
       "      <th>C-04</th>\n",
       "      <td>Juan Ortiz</td>\n",
       "      <td>Coordinador</td>\n",
       "      <td>35</td>\n",
       "      <td>divorciado</td>\n",
       "      <td>0</td>\n",
       "      <td>8</td>\n",
       "    </tr>\n",
       "    <tr>\n",
       "      <th>C-05</th>\n",
       "      <td>Paola Velandia</td>\n",
       "      <td>Supervisor</td>\n",
       "      <td>26</td>\n",
       "      <td>soltero</td>\n",
       "      <td>4</td>\n",
       "      <td>5</td>\n",
       "    </tr>\n",
       "    <tr>\n",
       "      <th>C-06</th>\n",
       "      <td>Raul Gomez</td>\n",
       "      <td>Auxiliar</td>\n",
       "      <td>28</td>\n",
       "      <td>soltero</td>\n",
       "      <td>1</td>\n",
       "      <td>3</td>\n",
       "    </tr>\n",
       "    <tr>\n",
       "      <th>C-07</th>\n",
       "      <td>Paula Cardona</td>\n",
       "      <td>Auxiliar</td>\n",
       "      <td>25</td>\n",
       "      <td>soltero</td>\n",
       "      <td>1</td>\n",
       "      <td>1</td>\n",
       "    </tr>\n",
       "    <tr>\n",
       "      <th>C-08</th>\n",
       "      <td>Esteban Zuñiga</td>\n",
       "      <td>Jefe turno</td>\n",
       "      <td>32</td>\n",
       "      <td>casado</td>\n",
       "      <td>2</td>\n",
       "      <td>8</td>\n",
       "    </tr>\n",
       "    <tr>\n",
       "      <th>C-09</th>\n",
       "      <td>Luisa Jimenez</td>\n",
       "      <td>Supervisor</td>\n",
       "      <td>25</td>\n",
       "      <td>soltero</td>\n",
       "      <td>3</td>\n",
       "      <td>2</td>\n",
       "    </tr>\n",
       "    <tr>\n",
       "      <th>C-10</th>\n",
       "      <td>Federico Martinez</td>\n",
       "      <td>Superintendente</td>\n",
       "      <td>46</td>\n",
       "      <td>casado</td>\n",
       "      <td>1</td>\n",
       "      <td>25</td>\n",
       "    </tr>\n",
       "  </tbody>\n",
       "</table>\n",
       "</div>"
      ],
      "text/plain": [
       "                 nombre            cargo  edad estado civil  hijos  \\\n",
       "C-01     Carlos Aguirre       Supervisor    28       casado      2   \n",
       "C-02     Cristian Velez       Supervisor    23      soltero      1   \n",
       "C-03        Ana Sanchez      Coordinador    29      soltero      0   \n",
       "C-04         Juan Ortiz      Coordinador    35   divorciado      0   \n",
       "C-05     Paola Velandia       Supervisor    26      soltero      4   \n",
       "C-06         Raul Gomez         Auxiliar    28      soltero      1   \n",
       "C-07      Paula Cardona         Auxiliar    25      soltero      1   \n",
       "C-08     Esteban Zuñiga       Jefe turno    32       casado      2   \n",
       "C-09      Luisa Jimenez       Supervisor    25      soltero      3   \n",
       "C-10  Federico Martinez  Superintendente    46       casado      1   \n",
       "\n",
       "      experiencia  \n",
       "C-01            2  \n",
       "C-02            1  \n",
       "C-03            3  \n",
       "C-04            8  \n",
       "C-05            5  \n",
       "C-06            3  \n",
       "C-07            1  \n",
       "C-08            8  \n",
       "C-09            2  \n",
       "C-10           25  "
      ]
     },
     "execution_count": 109,
     "metadata": {},
     "output_type": "execute_result"
    }
   ],
   "source": [
    "df.index = [\"C-01\",\"C-02\",\"C-03\",\"C-04\",\"C-05\",\"C-06\",\"C-07\",\"C-08\",\"C-09\",\"C-10\"]\n",
    "df"
   ]
  },
  {
   "cell_type": "code",
   "execution_count": 111,
   "id": "f60c5cc8",
   "metadata": {},
   "outputs": [
    {
     "data": {
      "text/html": [
       "<div>\n",
       "<style scoped>\n",
       "    .dataframe tbody tr th:only-of-type {\n",
       "        vertical-align: middle;\n",
       "    }\n",
       "\n",
       "    .dataframe tbody tr th {\n",
       "        vertical-align: top;\n",
       "    }\n",
       "\n",
       "    .dataframe thead th {\n",
       "        text-align: right;\n",
       "    }\n",
       "</style>\n",
       "<table border=\"1\" class=\"dataframe\">\n",
       "  <thead>\n",
       "    <tr style=\"text-align: right;\">\n",
       "      <th></th>\n",
       "      <th>nombre</th>\n",
       "      <th>cargo</th>\n",
       "      <th>edad</th>\n",
       "      <th>estado civil</th>\n",
       "      <th>hijos</th>\n",
       "      <th>experiencia</th>\n",
       "    </tr>\n",
       "  </thead>\n",
       "  <tbody>\n",
       "    <tr>\n",
       "      <th>C-05</th>\n",
       "      <td>Paola Velandia</td>\n",
       "      <td>Supervisor</td>\n",
       "      <td>26</td>\n",
       "      <td>soltero</td>\n",
       "      <td>4</td>\n",
       "      <td>5</td>\n",
       "    </tr>\n",
       "  </tbody>\n",
       "</table>\n",
       "</div>"
      ],
      "text/plain": [
       "              nombre       cargo  edad estado civil  hijos  experiencia\n",
       "C-05  Paola Velandia  Supervisor    26      soltero      4            5"
      ]
     },
     "execution_count": 111,
     "metadata": {},
     "output_type": "execute_result"
    }
   ],
   "source": [
    "df.loc[[\"C-05\"]]"
   ]
  },
  {
   "cell_type": "code",
   "execution_count": 114,
   "id": "47ed47d9",
   "metadata": {},
   "outputs": [
    {
     "data": {
      "text/html": [
       "<div>\n",
       "<style scoped>\n",
       "    .dataframe tbody tr th:only-of-type {\n",
       "        vertical-align: middle;\n",
       "    }\n",
       "\n",
       "    .dataframe tbody tr th {\n",
       "        vertical-align: top;\n",
       "    }\n",
       "\n",
       "    .dataframe thead th {\n",
       "        text-align: right;\n",
       "    }\n",
       "</style>\n",
       "<table border=\"1\" class=\"dataframe\">\n",
       "  <thead>\n",
       "    <tr style=\"text-align: right;\">\n",
       "      <th></th>\n",
       "      <th>nombre</th>\n",
       "      <th>cargo</th>\n",
       "      <th>edad</th>\n",
       "      <th>estado civil</th>\n",
       "      <th>hijos</th>\n",
       "      <th>experiencia</th>\n",
       "    </tr>\n",
       "  </thead>\n",
       "  <tbody>\n",
       "    <tr>\n",
       "      <th>C-02</th>\n",
       "      <td>Cristian Velez</td>\n",
       "      <td>Supervisor</td>\n",
       "      <td>23</td>\n",
       "      <td>soltero</td>\n",
       "      <td>1</td>\n",
       "      <td>1</td>\n",
       "    </tr>\n",
       "    <tr>\n",
       "      <th>C-03</th>\n",
       "      <td>Ana Sanchez</td>\n",
       "      <td>Coordinador</td>\n",
       "      <td>29</td>\n",
       "      <td>soltero</td>\n",
       "      <td>0</td>\n",
       "      <td>3</td>\n",
       "    </tr>\n",
       "    <tr>\n",
       "      <th>C-04</th>\n",
       "      <td>Juan Ortiz</td>\n",
       "      <td>Coordinador</td>\n",
       "      <td>35</td>\n",
       "      <td>divorciado</td>\n",
       "      <td>0</td>\n",
       "      <td>8</td>\n",
       "    </tr>\n",
       "  </tbody>\n",
       "</table>\n",
       "</div>"
      ],
      "text/plain": [
       "              nombre        cargo  edad estado civil  hijos  experiencia\n",
       "C-02  Cristian Velez   Supervisor    23      soltero      1            1\n",
       "C-03     Ana Sanchez  Coordinador    29      soltero      0            3\n",
       "C-04      Juan Ortiz  Coordinador    35   divorciado      0            8"
      ]
     },
     "execution_count": 114,
     "metadata": {},
     "output_type": "execute_result"
    }
   ],
   "source": [
    "df.loc[\"C-02\":\"C-04\"]"
   ]
  },
  {
   "cell_type": "code",
   "execution_count": 115,
   "id": "3945e65b",
   "metadata": {},
   "outputs": [
    {
     "data": {
      "text/html": [
       "<div>\n",
       "<style scoped>\n",
       "    .dataframe tbody tr th:only-of-type {\n",
       "        vertical-align: middle;\n",
       "    }\n",
       "\n",
       "    .dataframe tbody tr th {\n",
       "        vertical-align: top;\n",
       "    }\n",
       "\n",
       "    .dataframe thead th {\n",
       "        text-align: right;\n",
       "    }\n",
       "</style>\n",
       "<table border=\"1\" class=\"dataframe\">\n",
       "  <thead>\n",
       "    <tr style=\"text-align: right;\">\n",
       "      <th></th>\n",
       "      <th>nombre</th>\n",
       "      <th>cargo</th>\n",
       "      <th>edad</th>\n",
       "      <th>estado civil</th>\n",
       "      <th>hijos</th>\n",
       "      <th>experiencia</th>\n",
       "    </tr>\n",
       "  </thead>\n",
       "  <tbody>\n",
       "    <tr>\n",
       "      <th>C-01</th>\n",
       "      <td>Carlos Aguirre</td>\n",
       "      <td>Supervisor</td>\n",
       "      <td>28</td>\n",
       "      <td>casado</td>\n",
       "      <td>2</td>\n",
       "      <td>2</td>\n",
       "    </tr>\n",
       "    <tr>\n",
       "      <th>C-02</th>\n",
       "      <td>Cristian Velez</td>\n",
       "      <td>Supervisor</td>\n",
       "      <td>23</td>\n",
       "      <td>soltero</td>\n",
       "      <td>1</td>\n",
       "      <td>1</td>\n",
       "    </tr>\n",
       "    <tr>\n",
       "      <th>C-03</th>\n",
       "      <td>Ana Sanchez</td>\n",
       "      <td>Coordinador</td>\n",
       "      <td>29</td>\n",
       "      <td>soltero</td>\n",
       "      <td>0</td>\n",
       "      <td>3</td>\n",
       "    </tr>\n",
       "    <tr>\n",
       "      <th>C-04</th>\n",
       "      <td>Juan Ortiz</td>\n",
       "      <td>Coordinador</td>\n",
       "      <td>35</td>\n",
       "      <td>divorciado</td>\n",
       "      <td>0</td>\n",
       "      <td>8</td>\n",
       "    </tr>\n",
       "    <tr>\n",
       "      <th>C-05</th>\n",
       "      <td>Paola Velandia</td>\n",
       "      <td>Supervisor</td>\n",
       "      <td>26</td>\n",
       "      <td>soltero</td>\n",
       "      <td>4</td>\n",
       "      <td>5</td>\n",
       "    </tr>\n",
       "    <tr>\n",
       "      <th>C-06</th>\n",
       "      <td>Raul Gomez</td>\n",
       "      <td>Auxiliar</td>\n",
       "      <td>28</td>\n",
       "      <td>soltero</td>\n",
       "      <td>1</td>\n",
       "      <td>3</td>\n",
       "    </tr>\n",
       "    <tr>\n",
       "      <th>C-07</th>\n",
       "      <td>Paula Cardona</td>\n",
       "      <td>Auxiliar</td>\n",
       "      <td>25</td>\n",
       "      <td>soltero</td>\n",
       "      <td>1</td>\n",
       "      <td>1</td>\n",
       "    </tr>\n",
       "    <tr>\n",
       "      <th>C-08</th>\n",
       "      <td>Esteban Zuñiga</td>\n",
       "      <td>Jefe turno</td>\n",
       "      <td>32</td>\n",
       "      <td>casado</td>\n",
       "      <td>2</td>\n",
       "      <td>8</td>\n",
       "    </tr>\n",
       "    <tr>\n",
       "      <th>C-09</th>\n",
       "      <td>Luisa Jimenez</td>\n",
       "      <td>Supervisor</td>\n",
       "      <td>25</td>\n",
       "      <td>soltero</td>\n",
       "      <td>3</td>\n",
       "      <td>2</td>\n",
       "    </tr>\n",
       "    <tr>\n",
       "      <th>C-10</th>\n",
       "      <td>Federico Martinez</td>\n",
       "      <td>Superintendente</td>\n",
       "      <td>46</td>\n",
       "      <td>casado</td>\n",
       "      <td>1</td>\n",
       "      <td>25</td>\n",
       "    </tr>\n",
       "  </tbody>\n",
       "</table>\n",
       "</div>"
      ],
      "text/plain": [
       "                 nombre            cargo  edad estado civil  hijos  \\\n",
       "C-01     Carlos Aguirre       Supervisor    28       casado      2   \n",
       "C-02     Cristian Velez       Supervisor    23      soltero      1   \n",
       "C-03        Ana Sanchez      Coordinador    29      soltero      0   \n",
       "C-04         Juan Ortiz      Coordinador    35   divorciado      0   \n",
       "C-05     Paola Velandia       Supervisor    26      soltero      4   \n",
       "C-06         Raul Gomez         Auxiliar    28      soltero      1   \n",
       "C-07      Paula Cardona         Auxiliar    25      soltero      1   \n",
       "C-08     Esteban Zuñiga       Jefe turno    32       casado      2   \n",
       "C-09      Luisa Jimenez       Supervisor    25      soltero      3   \n",
       "C-10  Federico Martinez  Superintendente    46       casado      1   \n",
       "\n",
       "      experiencia  \n",
       "C-01            2  \n",
       "C-02            1  \n",
       "C-03            3  \n",
       "C-04            8  \n",
       "C-05            5  \n",
       "C-06            3  \n",
       "C-07            1  \n",
       "C-08            8  \n",
       "C-09            2  \n",
       "C-10           25  "
      ]
     },
     "execution_count": 115,
     "metadata": {},
     "output_type": "execute_result"
    }
   ],
   "source": [
    "df.loc[:]"
   ]
  },
  {
   "cell_type": "code",
   "execution_count": 118,
   "id": "d98f473e",
   "metadata": {},
   "outputs": [
    {
     "data": {
      "text/plain": [
       "'Paola Velandia'"
      ]
     },
     "execution_count": 118,
     "metadata": {},
     "output_type": "execute_result"
    }
   ],
   "source": [
    "df.loc[\"C-05\",\"nombre\"]"
   ]
  },
  {
   "cell_type": "code",
   "execution_count": 121,
   "id": "d2ef777e",
   "metadata": {},
   "outputs": [
    {
     "data": {
      "text/html": [
       "<div>\n",
       "<style scoped>\n",
       "    .dataframe tbody tr th:only-of-type {\n",
       "        vertical-align: middle;\n",
       "    }\n",
       "\n",
       "    .dataframe tbody tr th {\n",
       "        vertical-align: top;\n",
       "    }\n",
       "\n",
       "    .dataframe thead th {\n",
       "        text-align: right;\n",
       "    }\n",
       "</style>\n",
       "<table border=\"1\" class=\"dataframe\">\n",
       "  <thead>\n",
       "    <tr style=\"text-align: right;\">\n",
       "      <th></th>\n",
       "      <th>cargo</th>\n",
       "      <th>edad</th>\n",
       "      <th>estado civil</th>\n",
       "      <th>hijos</th>\n",
       "      <th>experiencia</th>\n",
       "    </tr>\n",
       "  </thead>\n",
       "  <tbody>\n",
       "    <tr>\n",
       "      <th>C-01</th>\n",
       "      <td>Supervisor</td>\n",
       "      <td>28</td>\n",
       "      <td>casado</td>\n",
       "      <td>2</td>\n",
       "      <td>2</td>\n",
       "    </tr>\n",
       "    <tr>\n",
       "      <th>C-02</th>\n",
       "      <td>Supervisor</td>\n",
       "      <td>23</td>\n",
       "      <td>soltero</td>\n",
       "      <td>1</td>\n",
       "      <td>1</td>\n",
       "    </tr>\n",
       "    <tr>\n",
       "      <th>C-03</th>\n",
       "      <td>Coordinador</td>\n",
       "      <td>29</td>\n",
       "      <td>soltero</td>\n",
       "      <td>0</td>\n",
       "      <td>3</td>\n",
       "    </tr>\n",
       "  </tbody>\n",
       "</table>\n",
       "</div>"
      ],
      "text/plain": [
       "            cargo  edad estado civil  hijos  experiencia\n",
       "C-01   Supervisor    28       casado      2            2\n",
       "C-02   Supervisor    23      soltero      1            1\n",
       "C-03  Coordinador    29      soltero      0            3"
      ]
     },
     "execution_count": 121,
     "metadata": {},
     "output_type": "execute_result"
    }
   ],
   "source": [
    "df.loc[:\"C-03\",\"cargo\":]"
   ]
  },
  {
   "cell_type": "code",
   "execution_count": 122,
   "id": "090d5a1b",
   "metadata": {},
   "outputs": [
    {
     "data": {
      "text/html": [
       "<div>\n",
       "<style scoped>\n",
       "    .dataframe tbody tr th:only-of-type {\n",
       "        vertical-align: middle;\n",
       "    }\n",
       "\n",
       "    .dataframe tbody tr th {\n",
       "        vertical-align: top;\n",
       "    }\n",
       "\n",
       "    .dataframe thead th {\n",
       "        text-align: right;\n",
       "    }\n",
       "</style>\n",
       "<table border=\"1\" class=\"dataframe\">\n",
       "  <thead>\n",
       "    <tr style=\"text-align: right;\">\n",
       "      <th></th>\n",
       "      <th>nombre</th>\n",
       "    </tr>\n",
       "  </thead>\n",
       "  <tbody>\n",
       "    <tr>\n",
       "      <th>C-03</th>\n",
       "      <td>Ana Sanchez</td>\n",
       "    </tr>\n",
       "    <tr>\n",
       "      <th>C-07</th>\n",
       "      <td>Paula Cardona</td>\n",
       "    </tr>\n",
       "  </tbody>\n",
       "</table>\n",
       "</div>"
      ],
      "text/plain": [
       "             nombre\n",
       "C-03    Ana Sanchez\n",
       "C-07  Paula Cardona"
      ]
     },
     "execution_count": 122,
     "metadata": {},
     "output_type": "execute_result"
    }
   ],
   "source": [
    "df.loc[[\"C-03\",\"C-07\"],[\"nombre\"]]"
   ]
  },
  {
   "cell_type": "code",
   "execution_count": 123,
   "id": "4cb9b30f",
   "metadata": {},
   "outputs": [
    {
     "data": {
      "text/html": [
       "<div>\n",
       "<style scoped>\n",
       "    .dataframe tbody tr th:only-of-type {\n",
       "        vertical-align: middle;\n",
       "    }\n",
       "\n",
       "    .dataframe tbody tr th {\n",
       "        vertical-align: top;\n",
       "    }\n",
       "\n",
       "    .dataframe thead th {\n",
       "        text-align: right;\n",
       "    }\n",
       "</style>\n",
       "<table border=\"1\" class=\"dataframe\">\n",
       "  <thead>\n",
       "    <tr style=\"text-align: right;\">\n",
       "      <th></th>\n",
       "      <th>nombre</th>\n",
       "      <th>estado civil</th>\n",
       "    </tr>\n",
       "  </thead>\n",
       "  <tbody>\n",
       "    <tr>\n",
       "      <th>C-03</th>\n",
       "      <td>Ana Sanchez</td>\n",
       "      <td>soltero</td>\n",
       "    </tr>\n",
       "    <tr>\n",
       "      <th>C-07</th>\n",
       "      <td>Paula Cardona</td>\n",
       "      <td>soltero</td>\n",
       "    </tr>\n",
       "  </tbody>\n",
       "</table>\n",
       "</div>"
      ],
      "text/plain": [
       "             nombre estado civil\n",
       "C-03    Ana Sanchez      soltero\n",
       "C-07  Paula Cardona      soltero"
      ]
     },
     "execution_count": 123,
     "metadata": {},
     "output_type": "execute_result"
    }
   ],
   "source": [
    "df.loc[[\"C-03\",\"C-07\"],[\"nombre\", \"estado civil\"]]"
   ]
  },
  {
   "cell_type": "markdown",
   "id": "17e5576a",
   "metadata": {},
   "source": [
    "# Resumen"
   ]
  },
  {
   "cell_type": "code",
   "execution_count": 172,
   "id": "2d21ca43",
   "metadata": {},
   "outputs": [
    {
     "data": {
      "text/html": [
       "<div>\n",
       "<style scoped>\n",
       "    .dataframe tbody tr th:only-of-type {\n",
       "        vertical-align: middle;\n",
       "    }\n",
       "\n",
       "    .dataframe tbody tr th {\n",
       "        vertical-align: top;\n",
       "    }\n",
       "\n",
       "    .dataframe thead th {\n",
       "        text-align: right;\n",
       "    }\n",
       "</style>\n",
       "<table border=\"1\" class=\"dataframe\">\n",
       "  <thead>\n",
       "    <tr style=\"text-align: right;\">\n",
       "      <th></th>\n",
       "      <th>edad</th>\n",
       "      <th>hijos</th>\n",
       "      <th>experiencia</th>\n",
       "    </tr>\n",
       "  </thead>\n",
       "  <tbody>\n",
       "    <tr>\n",
       "      <th>count</th>\n",
       "      <td>10.000000</td>\n",
       "      <td>10.000000</td>\n",
       "      <td>10.000000</td>\n",
       "    </tr>\n",
       "    <tr>\n",
       "      <th>mean</th>\n",
       "      <td>29.700000</td>\n",
       "      <td>1.500000</td>\n",
       "      <td>5.800000</td>\n",
       "    </tr>\n",
       "    <tr>\n",
       "      <th>std</th>\n",
       "      <td>6.733828</td>\n",
       "      <td>1.269296</td>\n",
       "      <td>7.223419</td>\n",
       "    </tr>\n",
       "    <tr>\n",
       "      <th>min</th>\n",
       "      <td>23.000000</td>\n",
       "      <td>0.000000</td>\n",
       "      <td>1.000000</td>\n",
       "    </tr>\n",
       "    <tr>\n",
       "      <th>25%</th>\n",
       "      <td>25.250000</td>\n",
       "      <td>1.000000</td>\n",
       "      <td>2.000000</td>\n",
       "    </tr>\n",
       "    <tr>\n",
       "      <th>50%</th>\n",
       "      <td>28.000000</td>\n",
       "      <td>1.000000</td>\n",
       "      <td>3.000000</td>\n",
       "    </tr>\n",
       "    <tr>\n",
       "      <th>75%</th>\n",
       "      <td>31.250000</td>\n",
       "      <td>2.000000</td>\n",
       "      <td>7.250000</td>\n",
       "    </tr>\n",
       "    <tr>\n",
       "      <th>max</th>\n",
       "      <td>46.000000</td>\n",
       "      <td>4.000000</td>\n",
       "      <td>25.000000</td>\n",
       "    </tr>\n",
       "  </tbody>\n",
       "</table>\n",
       "</div>"
      ],
      "text/plain": [
       "            edad      hijos  experiencia\n",
       "count  10.000000  10.000000    10.000000\n",
       "mean   29.700000   1.500000     5.800000\n",
       "std     6.733828   1.269296     7.223419\n",
       "min    23.000000   0.000000     1.000000\n",
       "25%    25.250000   1.000000     2.000000\n",
       "50%    28.000000   1.000000     3.000000\n",
       "75%    31.250000   2.000000     7.250000\n",
       "max    46.000000   4.000000    25.000000"
      ]
     },
     "execution_count": 172,
     "metadata": {},
     "output_type": "execute_result"
    }
   ],
   "source": [
    "df.describe()"
   ]
  },
  {
   "cell_type": "code",
   "execution_count": 173,
   "id": "d7f7901c",
   "metadata": {},
   "outputs": [
    {
     "data": {
      "text/plain": [
       "nombre          object\n",
       "cargo           object\n",
       "edad             int64\n",
       "estado civil    object\n",
       "hijos            int64\n",
       "experiencia      int64\n",
       "dtype: object"
      ]
     },
     "execution_count": 173,
     "metadata": {},
     "output_type": "execute_result"
    }
   ],
   "source": [
    "df.dtypes"
   ]
  },
  {
   "cell_type": "markdown",
   "id": "32e07746",
   "metadata": {},
   "source": [
    "# Grafico empleado vs experiencia"
   ]
  },
  {
   "cell_type": "code",
   "execution_count": 174,
   "id": "9e695be3",
   "metadata": {},
   "outputs": [
    {
     "data": {
      "text/plain": [
       "<AxesSubplot:xlabel='nombre'>"
      ]
     },
     "execution_count": 174,
     "metadata": {},
     "output_type": "execute_result"
    },
    {
     "data": {
      "image/png": "[encoded data removed]",
      "text/plain": [
       "<Figure size 432x288 with 1 Axes>"
      ]
     },
     "metadata": {
      "needs_background": "light"
     },
     "output_type": "display_data"
    }
   ],
   "source": [
    "df.plot.bar(\"nombre\",\"experiencia\")"
   ]
  }
 ],
 "metadata": {
  "kernelspec": {
   "display_name": "Python 3 (ipykernel)",
   "language": "python",
   "name": "python3"
  },
  "language_info": {
   "codemirror_mode": {
    "name": "ipython",
    "version": 3
   },
   "file_extension": ".py",
   "mimetype": "text/x-python",
   "name": "python",
   "nbconvert_exporter": "python",
   "pygments_lexer": "ipython3",
   "version": "3.9.7"
  }
 },
 "nbformat": 4,
 "nbformat_minor": 5
}
