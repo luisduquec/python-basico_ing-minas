{
 "cells": [
  {
   "cell_type": "markdown",
   "id": "98cd9258",
   "metadata": {},
   "source": [
    "# Introduccion a las Funciones"
   ]
  },
  {
   "cell_type": "markdown",
   "id": "7b14227e",
   "metadata": {},
   "source": [
    "## Sintaxis"
   ]
  },
  {
   "cell_type": "markdown",
   "id": "94d9a722",
   "metadata": {},
   "source": [
    "1. La palabra clave/reservada def\n",
    "2. Nombre apropiado para llamar o invocar a nuestra funcion\n",
    "3. Uso de parentesis \"( )\" e introducir los parametros de nuestra funcion en caso de ser necesarios (opcionales)\n",
    "4. Dos puntos \":\"\n",
    "5. Bloque de codigo a ejecutar\n",
    "6. Sentencia de retorno"
   ]
  },
  {
   "cell_type": "code",
   "execution_count": null,
   "id": "c408990f",
   "metadata": {},
   "outputs": [],
   "source": [
    "def cubo(n):\n",
    "    n3 = n**3\n",
    "    print(n3)"
   ]
  },
  {
   "cell_type": "code",
   "execution_count": null,
   "id": "dbe5a37d",
   "metadata": {},
   "outputs": [],
   "source": [
    "#cubo(5)"
   ]
  },
  {
   "cell_type": "markdown",
   "id": "0ac40fe9",
   "metadata": {},
   "source": [
    "## Funcion a partir de bloque de codigo (Sesion3)"
   ]
  },
  {
   "cell_type": "code",
   "execution_count": null,
   "id": "9e70cb03",
   "metadata": {},
   "outputs": [],
   "source": [
    "asignaciones = {\"juan\":[\"nivel 1\", \"nivel 2\", \"nivel 3\"], \"sara\":[\"nivel 4\",\"nivel 5\", \"nivel 6\"], \"pedro\":[\"nivel 7\", \"nivel 8\", \"nivel 9\", \"nivel 10\"]}\n",
    "tope = 3\n",
    "\n",
    "def fun_asignaciones(asignaciones, tope):\n",
    "    \n",
    "    for s in asignaciones:\n",
    "        print(\"el nombre de nuestro supervisor/a es:\",s)\n",
    "        print(\"los niveles asignados son:\",asignaciones[s])\n",
    "        if len(asignaciones[s]) > tope:\n",
    "            print(\"por favor acudir con tu superior, puesto que tienes muchos niveles asignados\")\n",
    "        else:\n",
    "            print(\"la cantidad de nieveles asignados está ok\")\n",
    "        print(\"\")\n",
    "\n",
    "#fun_asignaciones(asignaciones, tope)"
   ]
  },
  {
   "cell_type": "markdown",
   "id": "f5221239",
   "metadata": {},
   "source": [
    "## Probando nuestra Funcion (2 parametros)"
   ]
  },
  {
   "cell_type": "code",
   "execution_count": null,
   "id": "a4b41f66",
   "metadata": {},
   "outputs": [],
   "source": [
    "asignaciones2 = {\"juana\":[\"nivel 0\", \"nivel 1\", \"nivel 2\"], \"andrea\":[\"nivel 3\",\"nivel 4\"], \"cristian\":[\"nivel 5\", \"nivel 6\", \"nivel 7\", \"nivel 8\"]}\n",
    "tope2 = 3\n",
    "\n",
    "#fun_asignaciones(asignaciones2, tope2)"
   ]
  },
  {
   "cell_type": "markdown",
   "id": "e0de9010",
   "metadata": {},
   "source": [
    "## Funcion asignaciones_supervisor v1"
   ]
  },
  {
   "cell_type": "code",
   "execution_count": null,
   "id": "25edb58a",
   "metadata": {},
   "outputs": [],
   "source": [
    "def asignaciones_supervisor_v1():\n",
    "    nombre = input(\"Ingrese nombre del supervisor: \")\n",
    "    can_niv = int(input(\"¿Cuantos niveles tendra el supervisor?: \"))\n",
    "    niveles_supervisor = {nombre:[]}\n",
    "    \n",
    "    i=0\n",
    "    while (i<can_niv):\n",
    "        nom_nivel = input(\"Ingrese el nombre de un nivel: \")\n",
    "        niveles_supervisor[nombre] = niveles_supervisor[nombre] + [nom_nivel]\n",
    "        i=i+1\n",
    "    return(niveles_supervisor)"
   ]
  },
  {
   "cell_type": "markdown",
   "id": "d7f6726e",
   "metadata": {},
   "source": [
    "## Probando nuestra Funcion asignaciones_supervisor v1"
   ]
  },
  {
   "cell_type": "code",
   "execution_count": null,
   "id": "c3006689",
   "metadata": {},
   "outputs": [],
   "source": [
    "#victor = asignaciones_supervisor_v1()"
   ]
  },
  {
   "cell_type": "code",
   "execution_count": null,
   "id": "6e050759",
   "metadata": {},
   "outputs": [],
   "source": [
    "#victor"
   ]
  },
  {
   "cell_type": "markdown",
   "id": "252d8c28",
   "metadata": {},
   "source": [
    "## Funcion asignaciones_supervisor v2"
   ]
  },
  {
   "cell_type": "code",
   "execution_count": null,
   "id": "e7a41327",
   "metadata": {},
   "outputs": [],
   "source": [
    "def asignaciones_supervisor_v2():\n",
    "    general={}\n",
    "    can_sup= int(input(\"Ingrese la cantidad de supervisores: \"))\n",
    "    for i in range(0,can_sup):\n",
    "        nombre = input(\"Ingrese nombre del supervisor: \")\n",
    "        can_niv= int(input(\"¿Cuantos niveles tendra a su cargo?: \"))\n",
    "        niveles_supervisor = {nombre:[]}\n",
    "        i=0\n",
    "        while i < can_niv:\n",
    "            nom_nivel= input(\"Ingrese el nombre del nivel: \")\n",
    "            niveles_supervisor[nombre] = niveles_supervisor[nombre] +  [nom_nivel]\n",
    "            i = i + 1\n",
    "        general.update(niveles_supervisor)\n",
    "    return(general)\n",
    "#asignaciones_supervisor_v2()"
   ]
  },
  {
   "cell_type": "markdown",
   "id": "1096d06b",
   "metadata": {},
   "source": [
    "## Funcion asignaciones_supervisor v3"
   ]
  },
  {
   "cell_type": "code",
   "execution_count": null,
   "id": "e960804d",
   "metadata": {},
   "outputs": [],
   "source": [
    "def asignaciones_supervisor_v3():\n",
    "    general = {}\n",
    "    while True:\n",
    "        nombre = input(\"Ingrese nombre del supervisor: \")\n",
    "        niveles =[]\n",
    "        niveles_supervisor = {nombre:niveles}\n",
    "        while True:\n",
    "            nom_nivel= input(\"Ingrese el nombre del nivel: \")\n",
    "            niveles.append(nom_nivel)\n",
    "            parar_ni = input(\"¿Desea suspender el ingreso de niveles? (s/n): \")\n",
    "            if (parar_ni == \"s\"):\n",
    "                break\n",
    "            elif (parar_ni ==\"n\"):\n",
    "                pass\n",
    "        general.update(niveles_supervisor)\n",
    "        \n",
    "        parar_sup = input(\"¿Desea suspender el ingreso de supervisores? (s/n): \")\n",
    "        if (parar_sup ==\"s\"):\n",
    "            break\n",
    "        elif (parar_sup ==\"n\"):\n",
    "            pass\n",
    "            \n",
    "    return(general)\n",
    "#asignaciones_supervisor_v3()"
   ]
  }
 ],
 "metadata": {
  "kernelspec": {
   "display_name": "Python 3 (ipykernel)",
   "language": "python",
   "name": "python3"
  },
  "language_info": {
   "codemirror_mode": {
    "name": "ipython",
    "version": 3
   },
   "file_extension": ".py",
   "mimetype": "text/x-python",
   "name": "python",
   "nbconvert_exporter": "python",
   "pygments_lexer": "ipython3",
   "version": "3.9.7"
  }
 },
 "nbformat": 4,
 "nbformat_minor": 5
}
