{
 "cells": [
  {
   "cell_type": "code",
   "execution_count": 1,
   "id": "8bf419cf",
   "metadata": {},
   "outputs": [],
   "source": [
    "lista = [10, 100, 1000, 10000]"
   ]
  },
  {
   "cell_type": "code",
   "execution_count": 2,
   "id": "04451c73",
   "metadata": {},
   "outputs": [
    {
     "name": "stdout",
     "output_type": "stream",
     "text": [
      "[10, 100, 1000, 10000]\n"
     ]
    }
   ],
   "source": [
    "print(lista)"
   ]
  },
  {
   "cell_type": "code",
   "execution_count": 4,
   "id": "3ef972b4",
   "metadata": {},
   "outputs": [
    {
     "name": "stdout",
     "output_type": "stream",
     "text": [
      "10000\n"
     ]
    }
   ],
   "source": [
    "print( lista[3] )"
   ]
  },
  {
   "cell_type": "markdown",
   "id": "0fcd64e4",
   "metadata": {},
   "source": [
    "# Extraer multiples elementos"
   ]
  },
  {
   "cell_type": "code",
   "execution_count": 6,
   "id": "b6de0d2c",
   "metadata": {},
   "outputs": [
    {
     "name": "stdout",
     "output_type": "stream",
     "text": [
      "[10, 100, 1000]\n"
     ]
    }
   ],
   "source": [
    "print( lista[0:3] )"
   ]
  },
  {
   "cell_type": "markdown",
   "id": "43f8c390",
   "metadata": {},
   "source": [
    "# Extaer y operar con valores de listas"
   ]
  },
  {
   "cell_type": "code",
   "execution_count": 7,
   "id": "e75fb3e3",
   "metadata": {},
   "outputs": [
    {
     "data": {
      "text/plain": [
       "1000"
      ]
     },
     "execution_count": 7,
     "metadata": {},
     "output_type": "execute_result"
    }
   ],
   "source": [
    "lista[1] *10 "
   ]
  },
  {
   "cell_type": "markdown",
   "id": "acd6a50e",
   "metadata": {},
   "source": [
    "# Multiples tipos de variable en una lista"
   ]
  },
  {
   "cell_type": "code",
   "execution_count": 8,
   "id": "1854156b",
   "metadata": {},
   "outputs": [],
   "source": [
    "lista2 = [25, 50, \"cien\", 150, \"doscientos\"]"
   ]
  },
  {
   "cell_type": "code",
   "execution_count": 13,
   "id": "96261771",
   "metadata": {},
   "outputs": [
    {
     "name": "stdout",
     "output_type": "stream",
     "text": [
      "la suma de los numeros contenididos en: [25, 50, 'cien', 150, 'doscientos'] 225\n",
      "la concatenacion de los strings en: [25, 50, 'cien', 150, 'doscientos'] ciendoscientos\n"
     ]
    }
   ],
   "source": [
    "suma_enteros = lista2[0] + lista2[1] + lista2[3]\n",
    "conca_strings = lista2[2] + lista2[4]\n",
    "\n",
    "print(\"la suma de los numeros contenididos en:\",lista2, suma_enteros)\n",
    "print(\"la concatenacion de los strings en:\",lista2,conca_strings)"
   ]
  },
  {
   "cell_type": "markdown",
   "id": "7d63c36e",
   "metadata": {},
   "source": [
    "# Actualizar valores en listas"
   ]
  },
  {
   "cell_type": "code",
   "execution_count": 12,
   "id": "51e8bebe",
   "metadata": {},
   "outputs": [
    {
     "name": "stdout",
     "output_type": "stream",
     "text": [
      "[1, 2, 3, 4, 4, 6, 7]\n"
     ]
    }
   ],
   "source": [
    "l = [1,2,3,4,4,6,7]\n",
    "print(l)"
   ]
  },
  {
   "cell_type": "code",
   "execution_count": 14,
   "id": "e1d30e18",
   "metadata": {},
   "outputs": [
    {
     "name": "stdout",
     "output_type": "stream",
     "text": [
      "[1, 2, 3, 4, 5, 6, 7]\n",
      "5\n"
     ]
    }
   ],
   "source": [
    "l[4] = 5\n",
    "print(l)\n",
    "print(l[4])"
   ]
  },
  {
   "cell_type": "markdown",
   "id": "5d87d371",
   "metadata": {},
   "source": [
    "# Eliminar valores de listas"
   ]
  },
  {
   "cell_type": "code",
   "execution_count": 16,
   "id": "f165f6d0",
   "metadata": {},
   "outputs": [
    {
     "name": "stdout",
     "output_type": "stream",
     "text": [
      "[1, 2, 3, 4, 5, 6]\n"
     ]
    }
   ],
   "source": [
    "#remove\n",
    "l.remove(7)\n",
    "print(l)"
   ]
  },
  {
   "cell_type": "code",
   "execution_count": 17,
   "id": "1eaf750b",
   "metadata": {},
   "outputs": [
    {
     "name": "stdout",
     "output_type": "stream",
     "text": [
      "[2, 3, 4, 5, 6]\n"
     ]
    }
   ],
   "source": [
    "#del\n",
    "del (l[0])\n",
    "print(l)"
   ]
  },
  {
   "cell_type": "markdown",
   "id": "3a5c9421",
   "metadata": {},
   "source": [
    "# Agregar elementos a las listas"
   ]
  },
  {
   "cell_type": "code",
   "execution_count": 20,
   "id": "2edfa60b",
   "metadata": {},
   "outputs": [
    {
     "name": "stdout",
     "output_type": "stream",
     "text": [
      "[2, 4, 6, 8, 10]\n"
     ]
    }
   ],
   "source": [
    "l1 = [2,4,6]\n",
    "l2 = [8, 10]\n",
    "\n",
    "l = l1 + l2\n",
    "print(l)"
   ]
  },
  {
   "cell_type": "code",
   "execution_count": 21,
   "id": "574df80d",
   "metadata": {},
   "outputs": [
    {
     "name": "stdout",
     "output_type": "stream",
     "text": [
      "[2, 4, 6, 8, 10]\n"
     ]
    }
   ],
   "source": [
    "l1 = [2,4,6]\n",
    "l2 = [8, 10]\n",
    "\n",
    "l1.extend(l2)\n",
    "print(l1)"
   ]
  },
  {
   "cell_type": "markdown",
   "id": "3d84ae0a",
   "metadata": {},
   "source": [
    "# Tuplas "
   ]
  },
  {
   "cell_type": "code",
   "execution_count": 21,
   "id": "a2732db6",
   "metadata": {},
   "outputs": [
    {
     "name": "stdout",
     "output_type": "stream",
     "text": [
      "(1, 2, 3, 4, 4, 6, 7)\n"
     ]
    },
    {
     "ename": "TypeError",
     "evalue": "'tuple' object doesn't support item deletion",
     "output_type": "error",
     "traceback": [
      "\u001b[1;31m---------------------------------------------------------------------------\u001b[0m",
      "\u001b[1;31mTypeError\u001b[0m                                 Traceback (most recent call last)",
      "\u001b[1;32m~\\AppData\\Local\\Temp/ipykernel_6684/2526116866.py\u001b[0m in \u001b[0;36m<module>\u001b[1;34m\u001b[0m\n\u001b[0;32m      1\u001b[0m \u001b[0ml\u001b[0m \u001b[1;33m=\u001b[0m \u001b[1;33m(\u001b[0m\u001b[1;36m1\u001b[0m\u001b[1;33m,\u001b[0m\u001b[1;36m2\u001b[0m\u001b[1;33m,\u001b[0m\u001b[1;36m3\u001b[0m\u001b[1;33m,\u001b[0m\u001b[1;36m4\u001b[0m\u001b[1;33m,\u001b[0m\u001b[1;36m4\u001b[0m\u001b[1;33m,\u001b[0m\u001b[1;36m6\u001b[0m\u001b[1;33m,\u001b[0m\u001b[1;36m7\u001b[0m\u001b[1;33m)\u001b[0m\u001b[1;33m\u001b[0m\u001b[1;33m\u001b[0m\u001b[0m\n\u001b[0;32m      2\u001b[0m \u001b[0mprint\u001b[0m\u001b[1;33m(\u001b[0m\u001b[0ml\u001b[0m\u001b[1;33m)\u001b[0m\u001b[1;33m\u001b[0m\u001b[1;33m\u001b[0m\u001b[0m\n\u001b[1;32m----> 3\u001b[1;33m \u001b[1;32mdel\u001b[0m \u001b[1;33m(\u001b[0m\u001b[0ml\u001b[0m\u001b[1;33m[\u001b[0m\u001b[1;36m0\u001b[0m\u001b[1;33m]\u001b[0m\u001b[1;33m)\u001b[0m\u001b[1;33m\u001b[0m\u001b[1;33m\u001b[0m\u001b[0m\n\u001b[0m",
      "\u001b[1;31mTypeError\u001b[0m: 'tuple' object doesn't support item deletion"
     ]
    }
   ],
   "source": [
    "l = (1,2,3,4,4,6,7)\n",
    "print(l)\n",
    "del (l[0])"
   ]
  },
  {
   "cell_type": "markdown",
   "id": "84edb58f",
   "metadata": {},
   "source": [
    "# Matrices"
   ]
  },
  {
   "cell_type": "code",
   "execution_count": 29,
   "id": "624ea999",
   "metadata": {},
   "outputs": [],
   "source": [
    "l1 =[1,2,3,4,5]\n",
    "l2 =[6,7,8,9,10]\n",
    "l3 = [11,12,13,14,15]\n",
    "\n",
    "l = [l1,l2,l3]"
   ]
  },
  {
   "cell_type": "code",
   "execution_count": 30,
   "id": "da1225e7",
   "metadata": {},
   "outputs": [
    {
     "name": "stdout",
     "output_type": "stream",
     "text": [
      "[[1, 2, 3, 4, 5], [6, 7, 8, 9, 10], [11, 12, 13, 14, 15]]\n"
     ]
    }
   ],
   "source": [
    "print(l)"
   ]
  },
  {
   "cell_type": "code",
   "execution_count": 33,
   "id": "03069c75",
   "metadata": {},
   "outputs": [
    {
     "data": {
      "text/plain": [
       "8"
      ]
     },
     "execution_count": 33,
     "metadata": {},
     "output_type": "execute_result"
    }
   ],
   "source": [
    "l[1][2]"
   ]
  },
  {
   "cell_type": "markdown",
   "id": "1c657071",
   "metadata": {},
   "source": [
    "# Diccionarios"
   ]
  },
  {
   "cell_type": "code",
   "execution_count": 22,
   "id": "3a8963c7",
   "metadata": {},
   "outputs": [],
   "source": [
    "diccionario1 = {\"ana\":5, \"juan\":4}\n",
    "diccionario2 = {\"ana\":[5,4], \"juan\":[4,3]}"
   ]
  },
  {
   "cell_type": "code",
   "execution_count": 26,
   "id": "ebb5befa",
   "metadata": {},
   "outputs": [
    {
     "name": "stdout",
     "output_type": "stream",
     "text": [
      "5\n",
      "4\n"
     ]
    }
   ],
   "source": [
    "print (diccionario1[\"ana\"])\n",
    "print (diccionario1[\"juan\"])"
   ]
  },
  {
   "cell_type": "code",
   "execution_count": 27,
   "id": "01a1631c",
   "metadata": {},
   "outputs": [
    {
     "name": "stdout",
     "output_type": "stream",
     "text": [
      "[5, 4]\n",
      "[4, 3]\n"
     ]
    }
   ],
   "source": [
    "print (diccionario2[\"ana\"])\n",
    "print (diccionario2[\"juan\"])"
   ]
  },
  {
   "cell_type": "markdown",
   "id": "ecc34c36",
   "metadata": {},
   "source": [
    "# Ciclos aplicados a listas"
   ]
  },
  {
   "cell_type": "code",
   "execution_count": 50,
   "id": "ee1b1669",
   "metadata": {},
   "outputs": [],
   "source": [
    "numeros = [1,2,3,4,5,6,7,8,9,10,11,12,13,14,15,16,17,18,19,20]"
   ]
  },
  {
   "cell_type": "code",
   "execution_count": 54,
   "id": "4166e314",
   "metadata": {},
   "outputs": [
    {
     "name": "stdout",
     "output_type": "stream",
     "text": [
      "0\n",
      "1\n",
      "2\n",
      "3\n",
      "4\n",
      "5\n",
      "6\n",
      "7\n",
      "8\n",
      "9\n",
      "10\n",
      "11\n",
      "12\n",
      "13\n",
      "14\n",
      "15\n",
      "16\n",
      "17\n",
      "18\n",
      "19\n"
     ]
    }
   ],
   "source": [
    "for n in numeros:\n",
    "    print(n-1)"
   ]
  },
  {
   "cell_type": "markdown",
   "id": "cfbac58e",
   "metadata": {},
   "source": [
    "# Ciclos aplicados a diccionarios"
   ]
  },
  {
   "cell_type": "code",
   "execution_count": 58,
   "id": "8da4f40c",
   "metadata": {},
   "outputs": [],
   "source": [
    "diccionario3 = {\"ana\":6, \"juan\":5, \"miguel\":3}"
   ]
  },
  {
   "cell_type": "code",
   "execution_count": 63,
   "id": "8188f358",
   "metadata": {},
   "outputs": [
    {
     "name": "stdout",
     "output_type": "stream",
     "text": [
      "la clave es ana y el valor es: 6\n",
      "la clave es juan y el valor es: 5\n",
      "la clave es miguel y el valor es: 3\n"
     ]
    }
   ],
   "source": [
    "for i in diccionario3:\n",
    "    print(\"la clave es\", i, \"y el valor es:\",diccionario3[i])"
   ]
  }
 ],
 "metadata": {
  "kernelspec": {
   "display_name": "Python 3 (ipykernel)",
   "language": "python",
   "name": "python3"
  },
  "language_info": {
   "codemirror_mode": {
    "name": "ipython",
    "version": 3
   },
   "file_extension": ".py",
   "mimetype": "text/x-python",
   "name": "python",
   "nbconvert_exporter": "python",
   "pygments_lexer": "ipython3",
   "version": "3.9.7"
  }
 },
 "nbformat": 4,
 "nbformat_minor": 5
}
